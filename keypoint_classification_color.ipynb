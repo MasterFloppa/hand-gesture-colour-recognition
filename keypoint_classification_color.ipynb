{
 "cells": [
  {
   "cell_type": "code",
   "execution_count": 1,
   "metadata": {
    "id": "igMyGnjE9hEp"
   },
   "outputs": [],
   "source": [
    "import csv\n",
    "\n",
    "import numpy as np\n",
    "import tensorflow as tf\n",
    "from sklearn.model_selection import train_test_split\n",
    "\n",
    "RANDOM_SEED = 42"
   ]
  },
  {
   "cell_type": "markdown",
   "metadata": {
    "id": "t2HDvhIu9hEr"
   },
   "source": [
    "# Specify each path"
   ]
  },
  {
   "cell_type": "code",
   "execution_count": 2,
   "metadata": {
    "id": "9NvZP2Zn9hEy"
   },
   "outputs": [],
   "source": [
    "dataset = 'model/keypoint_classifier_color/color.csv'\n",
    "model_save_path = 'model/keypoint_classifier_color/color.keras'\n",
    "tflite_save_path = 'model/keypoint_classifier_color/color.tflite'"
   ]
  },
  {
   "cell_type": "markdown",
   "metadata": {
    "id": "s5oMH7x19hEz"
   },
   "source": [
    "# Set number of classes"
   ]
  },
  {
   "cell_type": "code",
   "execution_count": 3,
   "metadata": {
    "id": "du4kodXL9hEz"
   },
   "outputs": [],
   "source": [
    "NUM_CLASSES = 3"
   ]
  },
  {
   "cell_type": "markdown",
   "metadata": {
    "id": "XjnL0uso9hEz"
   },
   "source": [
    "# Dataset reading"
   ]
  },
  {
   "cell_type": "code",
   "execution_count": 4,
   "metadata": {
    "id": "QT5ZqtEz9hE0"
   },
   "outputs": [],
   "source": [
    "X_dataset = np.loadtxt(dataset, delimiter=',', dtype='float32', usecols=list(range(1, 4 + 1)))"
   ]
  },
  {
   "cell_type": "code",
   "execution_count": 5,
   "metadata": {
    "id": "QmoKFsp49hE0"
   },
   "outputs": [
    {
     "name": "stdout",
     "output_type": "stream",
     "text": [
      "(2301, 4)\n",
      "(2301,)\n",
      "[[ 57.27238   74.362854 112.1581     0.      ]\n",
      " [ 56.41714   73.17333  110.53048    0.      ]\n",
      " [ 58.575237  75.809525 113.75238    0.      ]\n",
      " ...\n",
      " [ 95.67809   39.286667  14.447619   0.      ]\n",
      " [ 96.13571   40.184284  16.093334   0.      ]\n",
      " [123.10762   52.218094  20.336191   0.      ]]\n",
      "[1 1 1 ... 2 2 2]\n"
     ]
    }
   ],
   "source": [
    "y_dataset = np.loadtxt(dataset, delimiter=',', dtype='int32', usecols=(0))\n",
    "print(X_dataset.shape)\n",
    "print(y_dataset.shape)\n",
    "print(X_dataset)\n",
    "print(y_dataset)"
   ]
  },
  {
   "cell_type": "code",
   "execution_count": 6,
   "metadata": {
    "id": "xQU7JTZ_9hE0"
   },
   "outputs": [],
   "source": [
    "X_train, X_test, y_train, y_test = train_test_split(X_dataset, y_dataset, train_size=0.75, random_state=RANDOM_SEED)"
   ]
  },
  {
   "cell_type": "markdown",
   "metadata": {
    "id": "mxK_lETT9hE0"
   },
   "source": [
    "# Model building"
   ]
  },
  {
   "cell_type": "code",
   "execution_count": 7,
   "metadata": {
    "id": "vHBmUf1t9hE1"
   },
   "outputs": [],
   "source": [
    "model = tf.keras.models.Sequential([\n",
    "    tf.keras.layers.Input((4, )), #number of additional para\n",
    "    tf.keras.layers.Dropout(0.2),\n",
    "    tf.keras.layers.Dense(20, activation='relu'),\n",
    "    tf.keras.layers.Dropout(0.4),\n",
    "    tf.keras.layers.Dense(10, activation='relu'),\n",
    "    tf.keras.layers.Dense(NUM_CLASSES, activation='softmax')\n",
    "])"
   ]
  },
  {
   "cell_type": "code",
   "execution_count": 8,
   "metadata": {
    "colab": {
     "base_uri": "https://localhost:8080/"
    },
    "id": "ypqky9tc9hE1",
    "outputId": "5db082bb-30e3-4110-bf63-a1ee777ecd46"
   },
   "outputs": [
    {
     "name": "stdout",
     "output_type": "stream",
     "text": [
      "Model: \"sequential\"\n",
      "_________________________________________________________________\n",
      " Layer (type)                Output Shape              Param #   \n",
      "=================================================================\n",
      " dropout (Dropout)           (None, 4)                 0         \n",
      "                                                                 \n",
      " dense (Dense)               (None, 20)                100       \n",
      "                                                                 \n",
      " dropout_1 (Dropout)         (None, 20)                0         \n",
      "                                                                 \n",
      " dense_1 (Dense)             (None, 10)                210       \n",
      "                                                                 \n",
      " dense_2 (Dense)             (None, 3)                 33        \n",
      "                                                                 \n",
      "=================================================================\n",
      "Total params: 343 (1.34 KB)\n",
      "Trainable params: 343 (1.34 KB)\n",
      "Non-trainable params: 0 (0.00 Byte)\n",
      "_________________________________________________________________\n"
     ]
    }
   ],
   "source": [
    "model.summary()  # tf.keras.utils.plot_model(model, show_shapes=True)"
   ]
  },
  {
   "cell_type": "code",
   "execution_count": 9,
   "metadata": {
    "id": "MbMjOflQ9hE1"
   },
   "outputs": [],
   "source": [
    "# Model checkpoint callback\n",
    "cp_callback = tf.keras.callbacks.ModelCheckpoint(\n",
    "    model_save_path, verbose=1, save_weights_only=False)\n",
    "# Callback for early stopping\n",
    "es_callback = tf.keras.callbacks.EarlyStopping(patience=20, verbose=1)"
   ]
  },
  {
   "cell_type": "code",
   "execution_count": 10,
   "metadata": {
    "id": "c3Dac0M_9hE2"
   },
   "outputs": [],
   "source": [
    "# Model compilation\n",
    "model.compile(\n",
    "    optimizer='adam',\n",
    "    loss='sparse_categorical_crossentropy',\n",
    "    metrics=['accuracy']\n",
    ")"
   ]
  },
  {
   "cell_type": "markdown",
   "metadata": {
    "id": "7XI0j1Iu9hE2"
   },
   "source": [
    "# Model training"
   ]
  },
  {
   "cell_type": "code",
   "execution_count": 11,
   "metadata": {
    "colab": {
     "base_uri": "https://localhost:8080/"
    },
    "id": "WirBl-JE9hE3",
    "outputId": "71b30ca2-8294-4d9d-8aa2-800d90d399de",
    "scrolled": true
   },
   "outputs": [
    {
     "name": "stdout",
     "output_type": "stream",
     "text": [
      "Epoch 1/1000\n",
      " 1/14 [=>............................] - ETA: 9s - loss: 14.9036 - accuracy: 0.2891\n",
      "Epoch 1: saving model to model/keypoint_classifier_color\\color.keras\n",
      "14/14 [==============================] - 1s 21ms/step - loss: 14.6653 - accuracy: 0.2765 - val_loss: 5.3734 - val_accuracy: 0.3368\n",
      "Epoch 2/1000\n",
      " 1/14 [=>............................] - ETA: 0s - loss: 9.9935 - accuracy: 0.3516\n",
      "Epoch 2: saving model to model/keypoint_classifier_color\\color.keras\n",
      "14/14 [==============================] - 0s 4ms/step - loss: 9.4274 - accuracy: 0.3629 - val_loss: 1.8046 - val_accuracy: 0.6476\n",
      "Epoch 3/1000\n",
      " 1/14 [=>............................] - ETA: 0s - loss: 7.0946 - accuracy: 0.3750\n",
      "Epoch 3: saving model to model/keypoint_classifier_color\\color.keras\n",
      "14/14 [==============================] - 0s 5ms/step - loss: 6.4401 - accuracy: 0.3994 - val_loss: 0.4759 - val_accuracy: 0.6632\n",
      "Epoch 4/1000\n",
      " 1/14 [=>............................] - ETA: 0s - loss: 5.0007 - accuracy: 0.3984\n",
      "Epoch 4: saving model to model/keypoint_classifier_color\\color.keras\n",
      "14/14 [==============================] - 0s 6ms/step - loss: 4.8223 - accuracy: 0.4609 - val_loss: 0.3561 - val_accuracy: 0.9931\n",
      "Epoch 5/1000\n",
      " 1/14 [=>............................] - ETA: 0s - loss: 3.3329 - accuracy: 0.5391\n",
      "Epoch 5: saving model to model/keypoint_classifier_color\\color.keras\n",
      "14/14 [==============================] - 0s 5ms/step - loss: 3.7991 - accuracy: 0.5061 - val_loss: 0.3299 - val_accuracy: 0.9983\n",
      "Epoch 6/1000\n",
      " 1/14 [=>............................] - ETA: 0s - loss: 3.3933 - accuracy: 0.4453\n",
      "Epoch 6: saving model to model/keypoint_classifier_color\\color.keras\n",
      "14/14 [==============================] - 0s 4ms/step - loss: 3.0340 - accuracy: 0.5368 - val_loss: 0.3352 - val_accuracy: 0.9983\n",
      "Epoch 7/1000\n",
      " 1/14 [=>............................] - ETA: 0s - loss: 2.5016 - accuracy: 0.5469\n",
      "Epoch 7: saving model to model/keypoint_classifier_color\\color.keras\n",
      "14/14 [==============================] - 0s 4ms/step - loss: 2.3530 - accuracy: 0.5809 - val_loss: 0.3328 - val_accuracy: 0.9965\n",
      "Epoch 8/1000\n",
      " 1/14 [=>............................] - ETA: 0s - loss: 2.5339 - accuracy: 0.5469\n",
      "Epoch 8: saving model to model/keypoint_classifier_color\\color.keras\n",
      "14/14 [==============================] - 0s 6ms/step - loss: 2.1533 - accuracy: 0.6000 - val_loss: 0.3308 - val_accuracy: 0.9983\n",
      "Epoch 9/1000\n",
      " 1/14 [=>............................] - ETA: 0s - loss: 2.3974 - accuracy: 0.6484\n",
      "Epoch 9: saving model to model/keypoint_classifier_color\\color.keras\n",
      "14/14 [==============================] - 0s 4ms/step - loss: 2.0820 - accuracy: 0.6017 - val_loss: 0.3250 - val_accuracy: 0.9983\n",
      "Epoch 10/1000\n",
      " 1/14 [=>............................] - ETA: 0s - loss: 2.1913 - accuracy: 0.6016\n",
      "Epoch 10: saving model to model/keypoint_classifier_color\\color.keras\n",
      "14/14 [==============================] - 0s 4ms/step - loss: 1.7850 - accuracy: 0.6093 - val_loss: 0.3257 - val_accuracy: 0.9983\n",
      "Epoch 11/1000\n",
      " 1/14 [=>............................] - ETA: 0s - loss: 2.1263 - accuracy: 0.5703\n",
      "Epoch 11: saving model to model/keypoint_classifier_color\\color.keras\n",
      "14/14 [==============================] - 0s 4ms/step - loss: 1.6748 - accuracy: 0.6116 - val_loss: 0.3218 - val_accuracy: 0.9983\n",
      "Epoch 12/1000\n",
      " 1/14 [=>............................] - ETA: 0s - loss: 1.5783 - accuracy: 0.6094\n",
      "Epoch 12: saving model to model/keypoint_classifier_color\\color.keras\n",
      "14/14 [==============================] - 0s 4ms/step - loss: 1.4899 - accuracy: 0.6220 - val_loss: 0.2882 - val_accuracy: 0.9861\n",
      "Epoch 13/1000\n",
      " 1/14 [=>............................] - ETA: 0s - loss: 1.0945 - accuracy: 0.6719\n",
      "Epoch 13: saving model to model/keypoint_classifier_color\\color.keras\n",
      "14/14 [==============================] - 0s 5ms/step - loss: 1.3476 - accuracy: 0.6406 - val_loss: 0.2654 - val_accuracy: 0.9861\n",
      "Epoch 14/1000\n",
      " 1/14 [=>............................] - ETA: 0s - loss: 1.2765 - accuracy: 0.6250\n",
      "Epoch 14: saving model to model/keypoint_classifier_color\\color.keras\n",
      "14/14 [==============================] - 0s 7ms/step - loss: 1.3127 - accuracy: 0.6278 - val_loss: 0.2522 - val_accuracy: 0.9913\n",
      "Epoch 15/1000\n",
      " 1/14 [=>............................] - ETA: 0s - loss: 1.3471 - accuracy: 0.7031\n",
      "Epoch 15: saving model to model/keypoint_classifier_color\\color.keras\n",
      "14/14 [==============================] - 0s 7ms/step - loss: 1.1784 - accuracy: 0.6452 - val_loss: 0.2515 - val_accuracy: 0.9948\n",
      "Epoch 16/1000\n",
      " 1/14 [=>............................] - ETA: 0s - loss: 1.1579 - accuracy: 0.5938\n",
      "Epoch 16: saving model to model/keypoint_classifier_color\\color.keras\n",
      "14/14 [==============================] - 0s 6ms/step - loss: 1.1178 - accuracy: 0.6446 - val_loss: 0.2649 - val_accuracy: 0.9983\n",
      "Epoch 17/1000\n",
      " 1/14 [=>............................] - ETA: 0s - loss: 0.8941 - accuracy: 0.7188\n",
      "Epoch 17: saving model to model/keypoint_classifier_color\\color.keras\n",
      "14/14 [==============================] - 0s 4ms/step - loss: 1.0386 - accuracy: 0.6672 - val_loss: 0.2608 - val_accuracy: 0.9983\n",
      "Epoch 18/1000\n",
      " 1/14 [=>............................] - ETA: 0s - loss: 0.8332 - accuracy: 0.6719\n",
      "Epoch 18: saving model to model/keypoint_classifier_color\\color.keras\n",
      "14/14 [==============================] - 0s 4ms/step - loss: 0.9106 - accuracy: 0.6800 - val_loss: 0.2526 - val_accuracy: 0.9983\n",
      "Epoch 19/1000\n",
      " 1/14 [=>............................] - ETA: 0s - loss: 1.2596 - accuracy: 0.6328\n",
      "Epoch 19: saving model to model/keypoint_classifier_color\\color.keras\n",
      "14/14 [==============================] - 0s 5ms/step - loss: 1.0052 - accuracy: 0.6800 - val_loss: 0.2709 - val_accuracy: 0.9983\n",
      "Epoch 20/1000\n",
      " 1/14 [=>............................] - ETA: 0s - loss: 0.8715 - accuracy: 0.7188\n",
      "Epoch 20: saving model to model/keypoint_classifier_color\\color.keras\n",
      "14/14 [==============================] - 0s 5ms/step - loss: 0.9134 - accuracy: 0.6951 - val_loss: 0.2650 - val_accuracy: 0.9983\n",
      "Epoch 21/1000\n",
      " 1/14 [=>............................] - ETA: 0s - loss: 0.8996 - accuracy: 0.6797\n",
      "Epoch 21: saving model to model/keypoint_classifier_color\\color.keras\n",
      "14/14 [==============================] - 0s 5ms/step - loss: 0.8761 - accuracy: 0.6754 - val_loss: 0.2689 - val_accuracy: 0.9983\n",
      "Epoch 22/1000\n",
      " 1/14 [=>............................] - ETA: 0s - loss: 0.8442 - accuracy: 0.7109\n",
      "Epoch 22: saving model to model/keypoint_classifier_color\\color.keras\n",
      "14/14 [==============================] - 0s 4ms/step - loss: 0.8843 - accuracy: 0.6765 - val_loss: 0.2835 - val_accuracy: 0.9983\n",
      "Epoch 23/1000\n",
      " 1/14 [=>............................] - ETA: 0s - loss: 0.7922 - accuracy: 0.7188\n",
      "Epoch 23: saving model to model/keypoint_classifier_color\\color.keras\n",
      "14/14 [==============================] - 0s 4ms/step - loss: 0.8899 - accuracy: 0.6817 - val_loss: 0.2712 - val_accuracy: 0.9983\n",
      "Epoch 24/1000\n",
      " 1/14 [=>............................] - ETA: 0s - loss: 0.7617 - accuracy: 0.7031\n",
      "Epoch 24: saving model to model/keypoint_classifier_color\\color.keras\n",
      "14/14 [==============================] - 0s 4ms/step - loss: 0.7874 - accuracy: 0.7113 - val_loss: 0.2808 - val_accuracy: 0.9983\n",
      "Epoch 25/1000\n",
      " 1/14 [=>............................] - ETA: 0s - loss: 0.9894 - accuracy: 0.7734\n",
      "Epoch 25: saving model to model/keypoint_classifier_color\\color.keras\n",
      "14/14 [==============================] - 0s 5ms/step - loss: 0.8713 - accuracy: 0.7107 - val_loss: 0.2807 - val_accuracy: 0.9983\n",
      "Epoch 26/1000\n",
      " 1/14 [=>............................] - ETA: 0s - loss: 0.6627 - accuracy: 0.7344\n",
      "Epoch 26: saving model to model/keypoint_classifier_color\\color.keras\n",
      "14/14 [==============================] - 0s 5ms/step - loss: 0.8356 - accuracy: 0.7038 - val_loss: 0.2840 - val_accuracy: 0.9983\n",
      "Epoch 27/1000\n",
      " 1/14 [=>............................] - ETA: 0s - loss: 1.0089 - accuracy: 0.6797\n",
      "Epoch 27: saving model to model/keypoint_classifier_color\\color.keras\n",
      "14/14 [==============================] - 0s 5ms/step - loss: 0.7726 - accuracy: 0.7322 - val_loss: 0.2830 - val_accuracy: 0.9983\n",
      "Epoch 28/1000\n",
      " 1/14 [=>............................] - ETA: 0s - loss: 0.7263 - accuracy: 0.7031\n",
      "Epoch 28: saving model to model/keypoint_classifier_color\\color.keras\n",
      "14/14 [==============================] - 0s 5ms/step - loss: 0.7902 - accuracy: 0.7177 - val_loss: 0.2781 - val_accuracy: 0.9983\n",
      "Epoch 29/1000\n",
      " 1/14 [=>............................] - ETA: 0s - loss: 0.5863 - accuracy: 0.7188\n",
      "Epoch 29: saving model to model/keypoint_classifier_color\\color.keras\n",
      "14/14 [==============================] - 0s 4ms/step - loss: 0.7352 - accuracy: 0.7328 - val_loss: 0.2893 - val_accuracy: 1.0000\n",
      "Epoch 30/1000\n",
      " 1/14 [=>............................] - ETA: 0s - loss: 0.5451 - accuracy: 0.7812\n",
      "Epoch 30: saving model to model/keypoint_classifier_color\\color.keras\n",
      "14/14 [==============================] - 0s 4ms/step - loss: 0.7308 - accuracy: 0.7438 - val_loss: 0.2755 - val_accuracy: 1.0000\n",
      "Epoch 31/1000\n",
      " 1/14 [=>............................] - ETA: 0s - loss: 0.6996 - accuracy: 0.7578\n",
      "Epoch 31: saving model to model/keypoint_classifier_color\\color.keras\n",
      "14/14 [==============================] - 0s 4ms/step - loss: 0.7582 - accuracy: 0.7345 - val_loss: 0.2846 - val_accuracy: 1.0000\n",
      "Epoch 32/1000\n",
      " 1/14 [=>............................] - ETA: 0s - loss: 0.8025 - accuracy: 0.6953\n",
      "Epoch 32: saving model to model/keypoint_classifier_color\\color.keras\n",
      "14/14 [==============================] - 0s 4ms/step - loss: 0.7647 - accuracy: 0.7159 - val_loss: 0.3032 - val_accuracy: 1.0000\n",
      "Epoch 33/1000\n",
      " 1/14 [=>............................] - ETA: 0s - loss: 0.7572 - accuracy: 0.7500\n",
      "Epoch 33: saving model to model/keypoint_classifier_color\\color.keras\n",
      "14/14 [==============================] - 0s 4ms/step - loss: 0.6728 - accuracy: 0.7443 - val_loss: 0.2901 - val_accuracy: 1.0000\n",
      "Epoch 34/1000\n",
      " 1/14 [=>............................] - ETA: 0s - loss: 0.6257 - accuracy: 0.7422\n",
      "Epoch 34: saving model to model/keypoint_classifier_color\\color.keras\n",
      "14/14 [==============================] - 0s 4ms/step - loss: 0.7156 - accuracy: 0.7345 - val_loss: 0.2756 - val_accuracy: 1.0000\n",
      "Epoch 35/1000\n",
      " 1/14 [=>............................] - ETA: 0s - loss: 0.5358 - accuracy: 0.7891\n",
      "Epoch 35: saving model to model/keypoint_classifier_color\\color.keras\n",
      "14/14 [==============================] - 0s 4ms/step - loss: 0.6980 - accuracy: 0.7519 - val_loss: 0.2726 - val_accuracy: 1.0000\n",
      "Epoch 35: early stopping\n"
     ]
    },
    {
     "data": {
      "text/plain": [
       "<keras.src.callbacks.History at 0x2a4912cf3d0>"
      ]
     },
     "execution_count": 11,
     "metadata": {},
     "output_type": "execute_result"
    }
   ],
   "source": [
    "model.fit(\n",
    "    X_train,\n",
    "    y_train,\n",
    "    epochs=1000,\n",
    "    batch_size=128,\n",
    "    validation_data=(X_test, y_test),\n",
    "    callbacks=[cp_callback, es_callback]\n",
    ")"
   ]
  },
  {
   "cell_type": "code",
   "execution_count": 12,
   "metadata": {
    "colab": {
     "base_uri": "https://localhost:8080/"
    },
    "id": "pxvb2Y299hE3",
    "outputId": "59eb3185-2e37-4b9e-bc9d-ab1b8ac29b7f"
   },
   "outputs": [
    {
     "name": "stdout",
     "output_type": "stream",
     "text": [
      "5/5 [==============================] - 0s 1ms/step - loss: 0.2726 - accuracy: 1.0000\n"
     ]
    }
   ],
   "source": [
    "# Model evaluation\n",
    "val_loss, val_acc = model.evaluate(X_test, y_test, batch_size=128)"
   ]
  },
  {
   "cell_type": "code",
   "execution_count": 13,
   "metadata": {
    "id": "RBkmDeUW9hE4"
   },
   "outputs": [],
   "source": [
    "# Loading the saved model\n",
    "model = tf.keras.models.load_model(model_save_path)"
   ]
  },
  {
   "cell_type": "code",
   "execution_count": 14,
   "metadata": {
    "colab": {
     "base_uri": "https://localhost:8080/"
    },
    "id": "tFz9Tb0I9hE4",
    "outputId": "1c3b3528-54ae-4ee2-ab04-77429211cbef"
   },
   "outputs": [
    {
     "name": "stdout",
     "output_type": "stream",
     "text": [
      "1/1 [==============================] - 0s 58ms/step\n",
      "[0.16240916 0.82135236 0.01623841]\n",
      "1\n"
     ]
    }
   ],
   "source": [
    "# Inference test\n",
    "predict_result = model.predict(np.array([X_test[0]]))\n",
    "print(np.squeeze(predict_result))\n",
    "print(np.argmax(np.squeeze(predict_result)))"
   ]
  },
  {
   "cell_type": "markdown",
   "metadata": {
    "id": "S3U4yNWx9hE4"
   },
   "source": [
    "# Confusion matrix"
   ]
  },
  {
   "cell_type": "code",
   "execution_count": 15,
   "metadata": {
    "colab": {
     "base_uri": "https://localhost:8080/",
     "height": 582
    },
    "id": "AP1V6SCk9hE5",
    "outputId": "08e41a80-7a4a-4619-8125-ecc371368d19"
   },
   "outputs": [
    {
     "name": "stdout",
     "output_type": "stream",
     "text": [
      "18/18 [==============================] - 0s 1ms/step\n"
     ]
    },
    {
     "data": {
      "image/png": "[encoded data removed]",
      "text/plain": [
       "<Figure size 700x600 with 2 Axes>"
      ]
     },
     "metadata": {},
     "output_type": "display_data"
    },
    {
     "name": "stdout",
     "output_type": "stream",
     "text": [
      "Classification Report\n",
      "              precision    recall  f1-score   support\n",
      "\n",
      "           0       1.00      1.00      1.00       192\n",
      "           1       1.00      1.00      1.00       181\n",
      "           2       1.00      1.00      1.00       203\n",
      "\n",
      "    accuracy                           1.00       576\n",
      "   macro avg       1.00      1.00      1.00       576\n",
      "weighted avg       1.00      1.00      1.00       576\n",
      "\n"
     ]
    }
   ],
   "source": [
    "import pandas as pd\n",
    "import seaborn as sns\n",
    "import matplotlib.pyplot as plt\n",
    "from sklearn.metrics import confusion_matrix, classification_report\n",
    "\n",
    "def print_confusion_matrix(y_true, y_pred, report=True):\n",
    "    labels = sorted(list(set(y_true)))\n",
    "    cmx_data = confusion_matrix(y_true, y_pred, labels=labels)\n",
    "    \n",
    "    df_cmx = pd.DataFrame(cmx_data, index=labels, columns=labels)\n",
    " \n",
    "    fig, ax = plt.subplots(figsize=(7, 6))\n",
    "    sns.heatmap(df_cmx, annot=True, fmt='g' ,square=False)\n",
    "    ax.set_ylim(len(set(y_true)), 0)\n",
    "    plt.show()\n",
    "    \n",
    "    if report:\n",
    "        print('Classification Report')\n",
    "        print(classification_report(y_test, y_pred))\n",
    "\n",
    "Y_pred = model.predict(X_test)\n",
    "y_pred = np.argmax(Y_pred, axis=1)\n",
    "\n",
    "print_confusion_matrix(y_test, y_pred)"
   ]
  },
  {
   "cell_type": "markdown",
   "metadata": {
    "id": "FNP6aqzc9hE5"
   },
   "source": [
    "# Convert to model for Tensorflow-Lite"
   ]
  },
  {
   "cell_type": "code",
   "execution_count": 16,
   "metadata": {
    "id": "ODjnYyld9hE6"
   },
   "outputs": [],
   "source": [
    "# Save as a model dedicated to inference\n",
    "model.save(model_save_path)"
   ]
  },
  {
   "cell_type": "code",
   "execution_count": 17,
   "metadata": {
    "colab": {
     "base_uri": "https://localhost:8080/"
    },
    "id": "zRfuK8Y59hE6",
    "outputId": "a4ca585c-b5d5-4244-8291-8674063209bb"
   },
   "outputs": [
    {
     "name": "stdout",
     "output_type": "stream",
     "text": [
      "INFO:tensorflow:Assets written to: C:\\Users\\samra\\AppData\\Local\\Temp\\tmphw71zkda\\assets\n"
     ]
    },
    {
     "name": "stderr",
     "output_type": "stream",
     "text": [
      "INFO:tensorflow:Assets written to: C:\\Users\\samra\\AppData\\Local\\Temp\\tmphw71zkda\\assets\n"
     ]
    },
    {
     "data": {
      "text/plain": [
       "3460"
      ]
     },
     "execution_count": 17,
     "metadata": {},
     "output_type": "execute_result"
    }
   ],
   "source": [
    "# Transform model (quantization)\n",
    "\n",
    "converter = tf.lite.TFLiteConverter.from_keras_model(model)\n",
    "converter.optimizations = [tf.lite.Optimize.DEFAULT]\n",
    "tflite_quantized_model = converter.convert()\n",
    "\n",
    "open(tflite_save_path, 'wb').write(tflite_quantized_model)"
   ]
  },
  {
   "cell_type": "markdown",
   "metadata": {
    "id": "CHBPBXdx9hE6"
   },
   "source": [
    "# Inference test"
   ]
  },
  {
   "cell_type": "code",
   "execution_count": 18,
   "metadata": {
    "id": "mGAzLocO9hE7"
   },
   "outputs": [],
   "source": [
    "interpreter = tf.lite.Interpreter(model_path=tflite_save_path)\n",
    "interpreter.allocate_tensors()"
   ]
  },
  {
   "cell_type": "code",
   "execution_count": 19,
   "metadata": {
    "id": "oQuDK8YS9hE7"
   },
   "outputs": [],
   "source": [
    "# Get I / O tensor\n",
    "input_details = interpreter.get_input_details()\n",
    "output_details = interpreter.get_output_details()"
   ]
  },
  {
   "cell_type": "code",
   "execution_count": 20,
   "metadata": {
    "id": "2_ixAf_l9hE7"
   },
   "outputs": [],
   "source": [
    "interpreter.set_tensor(input_details[0]['index'], np.array([X_test[0]]))"
   ]
  },
  {
   "cell_type": "code",
   "execution_count": 21,
   "metadata": {
    "colab": {
     "base_uri": "https://localhost:8080/"
    },
    "id": "s4FoAnuc9hE7",
    "outputId": "91f18257-8d8b-4ef3-c558-e9b5f94fabbf",
    "scrolled": true
   },
   "outputs": [
    {
     "name": "stdout",
     "output_type": "stream",
     "text": [
      "CPU times: total: 0 ns\n",
      "Wall time: 1e+03 µs\n"
     ]
    }
   ],
   "source": [
    "%%time\n",
    "# Inference implementation\n",
    "interpreter.invoke()\n",
    "tflite_results = interpreter.get_tensor(output_details[0]['index'])"
   ]
  },
  {
   "cell_type": "code",
   "execution_count": 22,
   "metadata": {
    "colab": {
     "base_uri": "https://localhost:8080/"
    },
    "id": "vONjp19J9hE8",
    "outputId": "77205e24-fd00-42c4-f7b6-e06e527c2cba"
   },
   "outputs": [
    {
     "name": "stdout",
     "output_type": "stream",
     "text": [
      "[0.16240902 0.82135254 0.01623843]\n",
      "1\n"
     ]
    }
   ],
   "source": [
    "print(np.squeeze(tflite_results))\n",
    "print(np.argmax(np.squeeze(tflite_results)))"
   ]
  }
 ],
 "metadata": {
  "accelerator": "GPU",
  "colab": {
   "collapsed_sections": [],
   "name": "keypoint_classification_EN.ipynb",
   "provenance": [],
   "toc_visible": true
  },
  "kernelspec": {
   "display_name": "Python 3 (ipykernel)",
   "language": "python",
   "name": "python3"
  },
  "language_info": {
   "codemirror_mode": {
    "name": "ipython",
    "version": 3
   },
   "file_extension": ".py",
   "mimetype": "text/x-python",
   "name": "python",
   "nbconvert_exporter": "python",
   "pygments_lexer": "ipython3",
   "version": "3.11.4"
  }
 },
 "nbformat": 4,
 "nbformat_minor": 4
}
