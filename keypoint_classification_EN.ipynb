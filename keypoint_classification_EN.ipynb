{
 "cells": [
  {
   "cell_type": "code",
   "execution_count": 1,
   "metadata": {
    "id": "igMyGnjE9hEp"
   },
   "outputs": [],
   "source": [
    "import csv\n",
    "\n",
    "import numpy as np\n",
    "import tensorflow as tf\n",
    "from sklearn.model_selection import train_test_split\n",
    "\n",
    "RANDOM_SEED = 42"
   ]
  },
  {
   "cell_type": "markdown",
   "metadata": {
    "id": "t2HDvhIu9hEr"
   },
   "source": [
    "# Specify each path"
   ]
  },
  {
   "cell_type": "code",
   "execution_count": 2,
   "metadata": {
    "id": "9NvZP2Zn9hEy"
   },
   "outputs": [],
   "source": [
    "dataset = 'model/keypoint_classifier/keypoint.csv'\n",
    "model_save_path = 'model/keypoint_classifier/keypoint_classifier.keras'\n",
    "tflite_save_path = 'model/keypoint_classifier/keypoint_classifier.tflite'"
   ]
  },
  {
   "cell_type": "markdown",
   "metadata": {
    "id": "s5oMH7x19hEz"
   },
   "source": [
    "# Set number of classes"
   ]
  },
  {
   "cell_type": "code",
   "execution_count": 3,
   "metadata": {
    "id": "du4kodXL9hEz"
   },
   "outputs": [],
   "source": [
    "NUM_CLASSES = 6"
   ]
  },
  {
   "cell_type": "markdown",
   "metadata": {
    "id": "XjnL0uso9hEz"
   },
   "source": [
    "# Dataset reading"
   ]
  },
  {
   "cell_type": "code",
   "execution_count": 4,
   "metadata": {
    "id": "QT5ZqtEz9hE0"
   },
   "outputs": [],
   "source": [
    "X_dataset = np.loadtxt(dataset, delimiter=',', dtype='float32', usecols=list(range(1, (21 * 2) + 1)))"
   ]
  },
  {
   "cell_type": "code",
   "execution_count": 5,
   "metadata": {
    "id": "QmoKFsp49hE0"
   },
   "outputs": [],
   "source": [
    "y_dataset = np.loadtxt(dataset, delimiter=',', dtype='int32', usecols=(0))\n",
    "# print(X_dataset.shape)\n",
    "# print(y_dataset.shape)\n",
    "# print(X_dataset)\n",
    "# print(y_dataset)"
   ]
  },
  {
   "cell_type": "code",
   "execution_count": 6,
   "metadata": {
    "id": "xQU7JTZ_9hE0"
   },
   "outputs": [],
   "source": [
    "X_train, X_test, y_train, y_test = train_test_split(X_dataset, y_dataset, train_size=0.75, random_state=RANDOM_SEED)"
   ]
  },
  {
   "cell_type": "markdown",
   "metadata": {
    "id": "mxK_lETT9hE0"
   },
   "source": [
    "# Model building"
   ]
  },
  {
   "cell_type": "code",
   "execution_count": 7,
   "metadata": {
    "id": "vHBmUf1t9hE1"
   },
   "outputs": [],
   "source": [
    "model = tf.keras.models.Sequential([\n",
    "    tf.keras.layers.Input((21 * 2, )),     #number of additional para\n",
    "    tf.keras.layers.Dropout(0.2),\n",
    "    tf.keras.layers.Dense(40, activation='relu'),\n",
    "    tf.keras.layers.Dropout(0.4),\n",
    "    tf.keras.layers.Dense(20, activation='relu'),\n",
    "    tf.keras.layers.Dense(NUM_CLASSES, activation='softmax')\n",
    "])"
   ]
  },
  {
   "cell_type": "code",
   "execution_count": 8,
   "metadata": {
    "colab": {
     "base_uri": "https://localhost:8080/"
    },
    "id": "ypqky9tc9hE1",
    "outputId": "5db082bb-30e3-4110-bf63-a1ee777ecd46"
   },
   "outputs": [
    {
     "name": "stdout",
     "output_type": "stream",
     "text": [
      "Model: \"sequential\"\n",
      "_________________________________________________________________\n",
      " Layer (type)                Output Shape              Param #   \n",
      "=================================================================\n",
      " dropout (Dropout)           (None, 42)                0         \n",
      "                                                                 \n",
      " dense (Dense)               (None, 40)                1720      \n",
      "                                                                 \n",
      " dropout_1 (Dropout)         (None, 40)                0         \n",
      "                                                                 \n",
      " dense_1 (Dense)             (None, 20)                820       \n",
      "                                                                 \n",
      " dense_2 (Dense)             (None, 6)                 126       \n",
      "                                                                 \n",
      "=================================================================\n",
      "Total params: 2666 (10.41 KB)\n",
      "Trainable params: 2666 (10.41 KB)\n",
      "Non-trainable params: 0 (0.00 Byte)\n",
      "_________________________________________________________________\n"
     ]
    }
   ],
   "source": [
    "model.summary()  # tf.keras.utils.plot_model(model, show_shapes=True)"
   ]
  },
  {
   "cell_type": "code",
   "execution_count": 9,
   "metadata": {
    "id": "MbMjOflQ9hE1"
   },
   "outputs": [],
   "source": [
    "# Model checkpoint callback\n",
    "cp_callback = tf.keras.callbacks.ModelCheckpoint(\n",
    "    model_save_path, verbose=1, save_weights_only=False)\n",
    "# Callback for early stopping\n",
    "es_callback = tf.keras.callbacks.EarlyStopping(patience=20, verbose=1)"
   ]
  },
  {
   "cell_type": "code",
   "execution_count": 10,
   "metadata": {
    "id": "c3Dac0M_9hE2"
   },
   "outputs": [],
   "source": [
    "# Model compilation\n",
    "model.compile(\n",
    "    optimizer='adam',\n",
    "    loss='sparse_categorical_crossentropy',\n",
    "    metrics=['accuracy']\n",
    ")"
   ]
  },
  {
   "cell_type": "markdown",
   "metadata": {
    "id": "7XI0j1Iu9hE2"
   },
   "source": [
    "# Model training"
   ]
  },
  {
   "cell_type": "code",
   "execution_count": 11,
   "metadata": {
    "colab": {
     "base_uri": "https://localhost:8080/"
    },
    "id": "WirBl-JE9hE3",
    "outputId": "71b30ca2-8294-4d9d-8aa2-800d90d399de",
    "scrolled": true
   },
   "outputs": [
    {
     "name": "stdout",
     "output_type": "stream",
     "text": [
      "Epoch 1/1000\n",
      "34/42 [=======================>......] - ETA: 0s - loss: 1.8121 - accuracy: 0.1721 \n",
      "Epoch 1: saving model to model/keypoint_classifier\\keypoint_classifier.keras\n",
      "42/42 [==============================] - 1s 8ms/step - loss: 1.7963 - accuracy: 0.1856 - val_loss: 1.6570 - val_accuracy: 0.3906\n",
      "Epoch 2/1000\n",
      "35/42 [========================>.....] - ETA: 0s - loss: 1.6553 - accuracy: 0.3002\n",
      "Epoch 2: saving model to model/keypoint_classifier\\keypoint_classifier.keras\n",
      "42/42 [==============================] - 0s 2ms/step - loss: 1.6495 - accuracy: 0.3016 - val_loss: 1.5283 - val_accuracy: 0.4643\n",
      "Epoch 3/1000\n",
      " 1/42 [..............................] - ETA: 0s - loss: 1.5984 - accuracy: 0.3672\n",
      "Epoch 3: saving model to model/keypoint_classifier\\keypoint_classifier.keras\n",
      "42/42 [==============================] - 0s 2ms/step - loss: 1.5502 - accuracy: 0.3608 - val_loss: 1.3872 - val_accuracy: 0.5146\n",
      "Epoch 4/1000\n",
      " 1/42 [..............................] - ETA: 0s - loss: 1.5411 - accuracy: 0.3203\n",
      "Epoch 4: saving model to model/keypoint_classifier\\keypoint_classifier.keras\n",
      "42/42 [==============================] - 0s 2ms/step - loss: 1.4436 - accuracy: 0.4191 - val_loss: 1.2461 - val_accuracy: 0.6259\n",
      "Epoch 5/1000\n",
      "40/42 [===========================>..] - ETA: 0s - loss: 1.3537 - accuracy: 0.4572\n",
      "Epoch 5: saving model to model/keypoint_classifier\\keypoint_classifier.keras\n",
      "42/42 [==============================] - 0s 2ms/step - loss: 1.3518 - accuracy: 0.4594 - val_loss: 1.1355 - val_accuracy: 0.6916\n",
      "Epoch 6/1000\n",
      "40/42 [===========================>..] - ETA: 0s - loss: 1.2858 - accuracy: 0.4963\n",
      "Epoch 6: saving model to model/keypoint_classifier\\keypoint_classifier.keras\n",
      "42/42 [==============================] - 0s 3ms/step - loss: 1.2861 - accuracy: 0.4950 - val_loss: 1.0401 - val_accuracy: 0.7333\n",
      "Epoch 7/1000\n",
      "42/42 [==============================] - ETA: 0s - loss: 1.2400 - accuracy: 0.5154\n",
      "Epoch 7: saving model to model/keypoint_classifier\\keypoint_classifier.keras\n",
      "42/42 [==============================] - 0s 2ms/step - loss: 1.2400 - accuracy: 0.5154 - val_loss: 0.9528 - val_accuracy: 0.7601\n",
      "Epoch 8/1000\n",
      " 1/42 [..............................] - ETA: 0s - loss: 1.1859 - accuracy: 0.5859\n",
      "Epoch 8: saving model to model/keypoint_classifier\\keypoint_classifier.keras\n",
      "42/42 [==============================] - 0s 2ms/step - loss: 1.1824 - accuracy: 0.5394 - val_loss: 0.8829 - val_accuracy: 0.7756\n",
      "Epoch 9/1000\n",
      " 1/42 [..............................] - ETA: 0s - loss: 1.1098 - accuracy: 0.6094\n",
      "Epoch 9: saving model to model/keypoint_classifier\\keypoint_classifier.keras\n",
      "42/42 [==============================] - 0s 2ms/step - loss: 1.1474 - accuracy: 0.5499 - val_loss: 0.8267 - val_accuracy: 0.8047\n",
      "Epoch 10/1000\n",
      "39/42 [==========================>...] - ETA: 0s - loss: 1.1051 - accuracy: 0.5763\n",
      "Epoch 10: saving model to model/keypoint_classifier\\keypoint_classifier.keras\n",
      "42/42 [==============================] - 0s 2ms/step - loss: 1.1042 - accuracy: 0.5779 - val_loss: 0.7818 - val_accuracy: 0.8132\n",
      "Epoch 11/1000\n",
      " 1/42 [..............................] - ETA: 0s - loss: 0.9403 - accuracy: 0.6719\n",
      "Epoch 11: saving model to model/keypoint_classifier\\keypoint_classifier.keras\n",
      "42/42 [==============================] - 0s 2ms/step - loss: 1.0677 - accuracy: 0.5899 - val_loss: 0.7422 - val_accuracy: 0.8247\n",
      "Epoch 12/1000\n",
      " 1/42 [..............................] - ETA: 0s - loss: 1.1499 - accuracy: 0.5469\n",
      "Epoch 12: saving model to model/keypoint_classifier\\keypoint_classifier.keras\n",
      "42/42 [==============================] - 0s 2ms/step - loss: 1.0390 - accuracy: 0.6074 - val_loss: 0.7008 - val_accuracy: 0.8350\n",
      "Epoch 13/1000\n",
      "42/42 [==============================] - ETA: 0s - loss: 1.0094 - accuracy: 0.6146\n",
      "Epoch 13: saving model to model/keypoint_classifier\\keypoint_classifier.keras\n",
      "42/42 [==============================] - 0s 3ms/step - loss: 1.0094 - accuracy: 0.6146 - val_loss: 0.6637 - val_accuracy: 0.8498\n",
      "Epoch 14/1000\n",
      " 1/42 [..............................] - ETA: 0s - loss: 1.0211 - accuracy: 0.5938\n",
      "Epoch 14: saving model to model/keypoint_classifier\\keypoint_classifier.keras\n",
      "42/42 [==============================] - 0s 2ms/step - loss: 1.0008 - accuracy: 0.6228 - val_loss: 0.6399 - val_accuracy: 0.8612\n",
      "Epoch 15/1000\n",
      "31/42 [=====================>........] - ETA: 0s - loss: 0.9883 - accuracy: 0.6278\n",
      "Epoch 15: saving model to model/keypoint_classifier\\keypoint_classifier.keras\n",
      "42/42 [==============================] - 0s 3ms/step - loss: 0.9873 - accuracy: 0.6262 - val_loss: 0.6278 - val_accuracy: 0.8652\n",
      "Epoch 16/1000\n",
      "40/42 [===========================>..] - ETA: 0s - loss: 0.9608 - accuracy: 0.6334\n",
      "Epoch 16: saving model to model/keypoint_classifier\\keypoint_classifier.keras\n",
      "42/42 [==============================] - 0s 3ms/step - loss: 0.9613 - accuracy: 0.6333 - val_loss: 0.6089 - val_accuracy: 0.8704\n",
      "Epoch 17/1000\n",
      "34/42 [=======================>......] - ETA: 0s - loss: 0.9529 - accuracy: 0.6448\n",
      "Epoch 17: saving model to model/keypoint_classifier\\keypoint_classifier.keras\n",
      "42/42 [==============================] - 0s 8ms/step - loss: 0.9472 - accuracy: 0.6495 - val_loss: 0.5781 - val_accuracy: 0.8789\n",
      "Epoch 18/1000\n",
      "31/42 [=====================>........] - ETA: 0s - loss: 0.9096 - accuracy: 0.6595\n",
      "Epoch 18: saving model to model/keypoint_classifier\\keypoint_classifier.keras\n",
      "42/42 [==============================] - 0s 6ms/step - loss: 0.9036 - accuracy: 0.6590 - val_loss: 0.5522 - val_accuracy: 0.8841\n",
      "Epoch 19/1000\n",
      "32/42 [=====================>........] - ETA: 0s - loss: 0.9040 - accuracy: 0.6677\n",
      "Epoch 19: saving model to model/keypoint_classifier\\keypoint_classifier.keras\n",
      "42/42 [==============================] - 0s 3ms/step - loss: 0.9010 - accuracy: 0.6689 - val_loss: 0.5432 - val_accuracy: 0.9001\n",
      "Epoch 20/1000\n",
      " 1/42 [..............................] - ETA: 0s - loss: 0.8658 - accuracy: 0.6875\n",
      "Epoch 20: saving model to model/keypoint_classifier\\keypoint_classifier.keras\n",
      "42/42 [==============================] - 0s 2ms/step - loss: 0.8816 - accuracy: 0.6698 - val_loss: 0.5191 - val_accuracy: 0.9046\n",
      "Epoch 21/1000\n",
      "40/42 [===========================>..] - ETA: 0s - loss: 0.8801 - accuracy: 0.6756\n",
      "Epoch 21: saving model to model/keypoint_classifier\\keypoint_classifier.keras\n",
      "42/42 [==============================] - 0s 3ms/step - loss: 0.8810 - accuracy: 0.6750 - val_loss: 0.5048 - val_accuracy: 0.9041\n",
      "Epoch 22/1000\n",
      " 1/42 [..............................] - ETA: 0s - loss: 0.9577 - accuracy: 0.6328\n",
      "Epoch 22: saving model to model/keypoint_classifier\\keypoint_classifier.keras\n",
      "42/42 [==============================] - 0s 2ms/step - loss: 0.8759 - accuracy: 0.6832 - val_loss: 0.4967 - val_accuracy: 0.9041\n",
      "Epoch 23/1000\n",
      " 1/42 [..............................] - ETA: 0s - loss: 0.7684 - accuracy: 0.6875\n",
      "Epoch 23: saving model to model/keypoint_classifier\\keypoint_classifier.keras\n",
      "42/42 [==============================] - 0s 2ms/step - loss: 0.8500 - accuracy: 0.6895 - val_loss: 0.4793 - val_accuracy: 0.9092\n",
      "Epoch 24/1000\n",
      " 1/42 [..............................] - ETA: 0s - loss: 0.9051 - accuracy: 0.6250\n",
      "Epoch 24: saving model to model/keypoint_classifier\\keypoint_classifier.keras\n",
      "42/42 [==============================] - 0s 2ms/step - loss: 0.8420 - accuracy: 0.6902 - val_loss: 0.4681 - val_accuracy: 0.9098\n",
      "Epoch 25/1000\n",
      " 1/42 [..............................] - ETA: 0s - loss: 0.7983 - accuracy: 0.7031\n",
      "Epoch 25: saving model to model/keypoint_classifier\\keypoint_classifier.keras\n",
      "42/42 [==============================] - 0s 2ms/step - loss: 0.8402 - accuracy: 0.6885 - val_loss: 0.4586 - val_accuracy: 0.9292\n",
      "Epoch 26/1000\n",
      " 1/42 [..............................] - ETA: 0s - loss: 0.8021 - accuracy: 0.7422\n",
      "Epoch 26: saving model to model/keypoint_classifier\\keypoint_classifier.keras\n",
      "42/42 [==============================] - 0s 2ms/step - loss: 0.8060 - accuracy: 0.7077 - val_loss: 0.4457 - val_accuracy: 0.9160\n",
      "Epoch 27/1000\n",
      " 1/42 [..............................] - ETA: 0s - loss: 0.7822 - accuracy: 0.7188\n",
      "Epoch 27: saving model to model/keypoint_classifier\\keypoint_classifier.keras\n",
      "42/42 [==============================] - 0s 2ms/step - loss: 0.8141 - accuracy: 0.7039 - val_loss: 0.4365 - val_accuracy: 0.9275\n",
      "Epoch 28/1000\n",
      " 1/42 [..............................] - ETA: 0s - loss: 0.8131 - accuracy: 0.6641\n",
      "Epoch 28: saving model to model/keypoint_classifier\\keypoint_classifier.keras\n",
      "42/42 [==============================] - 0s 2ms/step - loss: 0.8102 - accuracy: 0.7056 - val_loss: 0.4335 - val_accuracy: 0.9252\n",
      "Epoch 29/1000\n",
      " 1/42 [..............................] - ETA: 0s - loss: 0.7186 - accuracy: 0.7422\n",
      "Epoch 29: saving model to model/keypoint_classifier\\keypoint_classifier.keras\n",
      "42/42 [==============================] - 0s 2ms/step - loss: 0.8054 - accuracy: 0.7062 - val_loss: 0.4268 - val_accuracy: 0.9343\n",
      "Epoch 30/1000\n",
      " 1/42 [..............................] - ETA: 0s - loss: 0.8193 - accuracy: 0.7188\n",
      "Epoch 30: saving model to model/keypoint_classifier\\keypoint_classifier.keras\n",
      "42/42 [==============================] - 0s 2ms/step - loss: 0.7768 - accuracy: 0.7142 - val_loss: 0.3984 - val_accuracy: 0.9383\n",
      "Epoch 31/1000\n",
      " 1/42 [..............................] - ETA: 0s - loss: 0.7314 - accuracy: 0.7109\n",
      "Epoch 31: saving model to model/keypoint_classifier\\keypoint_classifier.keras\n",
      "42/42 [==============================] - 0s 2ms/step - loss: 0.7941 - accuracy: 0.7085 - val_loss: 0.4077 - val_accuracy: 0.9343\n",
      "Epoch 32/1000\n",
      " 1/42 [..............................] - ETA: 0s - loss: 0.6749 - accuracy: 0.7578\n",
      "Epoch 32: saving model to model/keypoint_classifier\\keypoint_classifier.keras\n",
      "42/42 [==============================] - 0s 2ms/step - loss: 0.7626 - accuracy: 0.7289 - val_loss: 0.3811 - val_accuracy: 0.9360\n",
      "Epoch 33/1000\n",
      " 1/42 [..............................] - ETA: 0s - loss: 0.6326 - accuracy: 0.7500\n",
      "Epoch 33: saving model to model/keypoint_classifier\\keypoint_classifier.keras\n",
      "42/42 [==============================] - 0s 2ms/step - loss: 0.7570 - accuracy: 0.7283 - val_loss: 0.3858 - val_accuracy: 0.9383\n",
      "Epoch 34/1000\n",
      "39/42 [==========================>...] - ETA: 0s - loss: 0.7322 - accuracy: 0.7410\n",
      "Epoch 34: saving model to model/keypoint_classifier\\keypoint_classifier.keras\n",
      "42/42 [==============================] - 0s 3ms/step - loss: 0.7338 - accuracy: 0.7418 - val_loss: 0.3634 - val_accuracy: 0.9469\n",
      "Epoch 35/1000\n",
      "21/42 [==============>...............] - ETA: 0s - loss: 0.7789 - accuracy: 0.7228\n",
      "Epoch 35: saving model to model/keypoint_classifier\\keypoint_classifier.keras\n",
      "42/42 [==============================] - 0s 4ms/step - loss: 0.7679 - accuracy: 0.7239 - val_loss: 0.3754 - val_accuracy: 0.9429\n",
      "Epoch 36/1000\n",
      "31/42 [=====================>........] - ETA: 0s - loss: 0.7294 - accuracy: 0.7434\n",
      "Epoch 36: saving model to model/keypoint_classifier\\keypoint_classifier.keras\n",
      "42/42 [==============================] - 0s 4ms/step - loss: 0.7335 - accuracy: 0.7382 - val_loss: 0.3744 - val_accuracy: 0.9452\n",
      "Epoch 37/1000\n",
      " 1/42 [..............................] - ETA: 0s - loss: 0.8290 - accuracy: 0.7266\n",
      "Epoch 37: saving model to model/keypoint_classifier\\keypoint_classifier.keras\n",
      "42/42 [==============================] - 0s 2ms/step - loss: 0.7237 - accuracy: 0.7424 - val_loss: 0.3470 - val_accuracy: 0.9497\n",
      "Epoch 38/1000\n",
      "24/42 [================>.............] - ETA: 0s - loss: 0.6975 - accuracy: 0.7503\n",
      "Epoch 38: saving model to model/keypoint_classifier\\keypoint_classifier.keras\n",
      "42/42 [==============================] - 0s 3ms/step - loss: 0.7036 - accuracy: 0.7468 - val_loss: 0.3474 - val_accuracy: 0.9503\n",
      "Epoch 39/1000\n",
      "32/42 [=====================>........] - ETA: 0s - loss: 0.7076 - accuracy: 0.7432\n",
      "Epoch 39: saving model to model/keypoint_classifier\\keypoint_classifier.keras\n",
      "42/42 [==============================] - 0s 3ms/step - loss: 0.7113 - accuracy: 0.7412 - val_loss: 0.3492 - val_accuracy: 0.9492\n",
      "Epoch 40/1000\n",
      "30/42 [====================>.........] - ETA: 0s - loss: 0.7038 - accuracy: 0.7518\n",
      "Epoch 40: saving model to model/keypoint_classifier\\keypoint_classifier.keras\n",
      "42/42 [==============================] - 0s 3ms/step - loss: 0.7095 - accuracy: 0.7479 - val_loss: 0.3386 - val_accuracy: 0.9435\n",
      "Epoch 41/1000\n",
      " 1/42 [..............................] - ETA: 0s - loss: 0.7574 - accuracy: 0.7109\n",
      "Epoch 41: saving model to model/keypoint_classifier\\keypoint_classifier.keras\n",
      "42/42 [==============================] - 0s 2ms/step - loss: 0.7083 - accuracy: 0.7530 - val_loss: 0.3263 - val_accuracy: 0.9492\n",
      "Epoch 42/1000\n",
      "40/42 [===========================>..] - ETA: 0s - loss: 0.6777 - accuracy: 0.7633\n",
      "Epoch 42: saving model to model/keypoint_classifier\\keypoint_classifier.keras\n",
      "42/42 [==============================] - 0s 3ms/step - loss: 0.6759 - accuracy: 0.7645 - val_loss: 0.3207 - val_accuracy: 0.9497\n",
      "Epoch 43/1000\n",
      "21/42 [==============>...............] - ETA: 0s - loss: 0.6984 - accuracy: 0.7489\n",
      "Epoch 43: saving model to model/keypoint_classifier\\keypoint_classifier.keras\n",
      "42/42 [==============================] - 0s 4ms/step - loss: 0.6911 - accuracy: 0.7576 - val_loss: 0.3198 - val_accuracy: 0.9532\n",
      "Epoch 44/1000\n",
      "25/42 [================>.............] - ETA: 0s - loss: 0.6621 - accuracy: 0.7697\n",
      "Epoch 44: saving model to model/keypoint_classifier\\keypoint_classifier.keras\n",
      "42/42 [==============================] - 0s 4ms/step - loss: 0.6720 - accuracy: 0.7664 - val_loss: 0.3145 - val_accuracy: 0.9492\n",
      "Epoch 45/1000\n",
      "36/42 [========================>.....] - ETA: 0s - loss: 0.6544 - accuracy: 0.7639\n",
      "Epoch 45: saving model to model/keypoint_classifier\\keypoint_classifier.keras\n",
      "42/42 [==============================] - 0s 3ms/step - loss: 0.6617 - accuracy: 0.7610 - val_loss: 0.3065 - val_accuracy: 0.9555\n",
      "Epoch 46/1000\n",
      " 1/42 [..............................] - ETA: 0s - loss: 0.6556 - accuracy: 0.7500\n",
      "Epoch 46: saving model to model/keypoint_classifier\\keypoint_classifier.keras\n",
      "42/42 [==============================] - 0s 2ms/step - loss: 0.6548 - accuracy: 0.7744 - val_loss: 0.2948 - val_accuracy: 0.9526\n",
      "Epoch 47/1000\n",
      " 1/42 [..............................] - ETA: 0s - loss: 0.7055 - accuracy: 0.7734\n",
      "Epoch 47: saving model to model/keypoint_classifier\\keypoint_classifier.keras\n",
      "42/42 [==============================] - 0s 2ms/step - loss: 0.6629 - accuracy: 0.7669 - val_loss: 0.3020 - val_accuracy: 0.9537\n",
      "Epoch 48/1000\n",
      " 1/42 [..............................] - ETA: 0s - loss: 0.5897 - accuracy: 0.8125\n",
      "Epoch 48: saving model to model/keypoint_classifier\\keypoint_classifier.keras\n",
      "42/42 [==============================] - 0s 2ms/step - loss: 0.6530 - accuracy: 0.7692 - val_loss: 0.2949 - val_accuracy: 0.9577\n",
      "Epoch 49/1000\n",
      " 1/42 [..............................] - ETA: 0s - loss: 0.5523 - accuracy: 0.8281\n",
      "Epoch 49: saving model to model/keypoint_classifier\\keypoint_classifier.keras\n",
      "42/42 [==============================] - 0s 2ms/step - loss: 0.6457 - accuracy: 0.7742 - val_loss: 0.2944 - val_accuracy: 0.9566\n",
      "Epoch 50/1000\n",
      " 1/42 [..............................] - ETA: 0s - loss: 0.6436 - accuracy: 0.7578\n",
      "Epoch 50: saving model to model/keypoint_classifier\\keypoint_classifier.keras\n",
      "42/42 [==============================] - 0s 2ms/step - loss: 0.6482 - accuracy: 0.7723 - val_loss: 0.3003 - val_accuracy: 0.9503\n",
      "Epoch 51/1000\n",
      "41/42 [============================>.] - ETA: 0s - loss: 0.6593 - accuracy: 0.7731\n",
      "Epoch 51: saving model to model/keypoint_classifier\\keypoint_classifier.keras\n",
      "42/42 [==============================] - 0s 3ms/step - loss: 0.6590 - accuracy: 0.7732 - val_loss: 0.2916 - val_accuracy: 0.9537\n",
      "Epoch 52/1000\n",
      "25/42 [================>.............] - ETA: 0s - loss: 0.6448 - accuracy: 0.7713\n",
      "Epoch 52: saving model to model/keypoint_classifier\\keypoint_classifier.keras\n",
      "42/42 [==============================] - 0s 4ms/step - loss: 0.6477 - accuracy: 0.7757 - val_loss: 0.2896 - val_accuracy: 0.9549\n",
      "Epoch 53/1000\n",
      "33/42 [======================>.......] - ETA: 0s - loss: 0.6225 - accuracy: 0.7768\n",
      "Epoch 53: saving model to model/keypoint_classifier\\keypoint_classifier.keras\n",
      "42/42 [==============================] - 0s 3ms/step - loss: 0.6217 - accuracy: 0.7810 - val_loss: 0.2821 - val_accuracy: 0.9515\n",
      "Epoch 54/1000\n",
      "39/42 [==========================>...] - ETA: 0s - loss: 0.6125 - accuracy: 0.7819\n",
      "Epoch 54: saving model to model/keypoint_classifier\\keypoint_classifier.keras\n",
      "42/42 [==============================] - 0s 3ms/step - loss: 0.6110 - accuracy: 0.7824 - val_loss: 0.2852 - val_accuracy: 0.9463\n",
      "Epoch 55/1000\n",
      "25/42 [================>.............] - ETA: 0s - loss: 0.6351 - accuracy: 0.7738\n",
      "Epoch 55: saving model to model/keypoint_classifier\\keypoint_classifier.keras\n",
      "42/42 [==============================] - 0s 3ms/step - loss: 0.6329 - accuracy: 0.7772 - val_loss: 0.2862 - val_accuracy: 0.9566\n",
      "Epoch 56/1000\n",
      " 1/42 [..............................] - ETA: 0s - loss: 0.5745 - accuracy: 0.7422\n",
      "Epoch 56: saving model to model/keypoint_classifier\\keypoint_classifier.keras\n",
      "42/42 [==============================] - 0s 2ms/step - loss: 0.6219 - accuracy: 0.7795 - val_loss: 0.2774 - val_accuracy: 0.9543\n",
      "Epoch 57/1000\n",
      " 1/42 [..............................] - ETA: 0s - loss: 0.5902 - accuracy: 0.8047\n",
      "Epoch 57: saving model to model/keypoint_classifier\\keypoint_classifier.keras\n",
      "42/42 [==============================] - 0s 2ms/step - loss: 0.6094 - accuracy: 0.7898 - val_loss: 0.2913 - val_accuracy: 0.9475\n",
      "Epoch 58/1000\n",
      " 1/42 [..............................] - ETA: 0s - loss: 0.6497 - accuracy: 0.8203\n",
      "Epoch 58: saving model to model/keypoint_classifier\\keypoint_classifier.keras\n",
      "42/42 [==============================] - 0s 2ms/step - loss: 0.6288 - accuracy: 0.7742 - val_loss: 0.2730 - val_accuracy: 0.9629\n",
      "Epoch 59/1000\n",
      " 1/42 [..............................] - ETA: 0s - loss: 0.6306 - accuracy: 0.7734\n",
      "Epoch 59: saving model to model/keypoint_classifier\\keypoint_classifier.keras\n",
      "42/42 [==============================] - 0s 2ms/step - loss: 0.5951 - accuracy: 0.7934 - val_loss: 0.2646 - val_accuracy: 0.9566\n",
      "Epoch 60/1000\n",
      " 1/42 [..............................] - ETA: 0s - loss: 0.6664 - accuracy: 0.7422\n",
      "Epoch 60: saving model to model/keypoint_classifier\\keypoint_classifier.keras\n",
      "42/42 [==============================] - 0s 2ms/step - loss: 0.5994 - accuracy: 0.7829 - val_loss: 0.2703 - val_accuracy: 0.9566\n",
      "Epoch 61/1000\n",
      " 1/42 [..............................] - ETA: 0s - loss: 0.5184 - accuracy: 0.8438\n",
      "Epoch 61: saving model to model/keypoint_classifier\\keypoint_classifier.keras\n",
      "42/42 [==============================] - 0s 2ms/step - loss: 0.6124 - accuracy: 0.7869 - val_loss: 0.2781 - val_accuracy: 0.9577\n",
      "Epoch 62/1000\n",
      " 1/42 [..............................] - ETA: 0s - loss: 0.7404 - accuracy: 0.7344\n",
      "Epoch 62: saving model to model/keypoint_classifier\\keypoint_classifier.keras\n",
      "42/42 [==============================] - 0s 2ms/step - loss: 0.6040 - accuracy: 0.7879 - val_loss: 0.2690 - val_accuracy: 0.9577\n",
      "Epoch 63/1000\n",
      " 1/42 [..............................] - ETA: 0s - loss: 0.5704 - accuracy: 0.8203\n",
      "Epoch 63: saving model to model/keypoint_classifier\\keypoint_classifier.keras\n",
      "42/42 [==============================] - 0s 2ms/step - loss: 0.6127 - accuracy: 0.7862 - val_loss: 0.2670 - val_accuracy: 0.9503\n",
      "Epoch 64/1000\n",
      "40/42 [===========================>..] - ETA: 0s - loss: 0.5800 - accuracy: 0.7900\n",
      "Epoch 64: saving model to model/keypoint_classifier\\keypoint_classifier.keras\n",
      "42/42 [==============================] - 0s 3ms/step - loss: 0.5795 - accuracy: 0.7907 - val_loss: 0.2547 - val_accuracy: 0.9566\n",
      "Epoch 65/1000\n",
      "26/42 [=================>............] - ETA: 0s - loss: 0.5879 - accuracy: 0.8011\n",
      "Epoch 65: saving model to model/keypoint_classifier\\keypoint_classifier.keras\n",
      "42/42 [==============================] - 0s 4ms/step - loss: 0.5763 - accuracy: 0.7997 - val_loss: 0.2427 - val_accuracy: 0.9629\n",
      "Epoch 66/1000\n",
      "35/42 [========================>.....] - ETA: 0s - loss: 0.5871 - accuracy: 0.7955\n",
      "Epoch 66: saving model to model/keypoint_classifier\\keypoint_classifier.keras\n",
      "42/42 [==============================] - 0s 3ms/step - loss: 0.5913 - accuracy: 0.7944 - val_loss: 0.2638 - val_accuracy: 0.9549\n",
      "Epoch 67/1000\n",
      "26/42 [=================>............] - ETA: 0s - loss: 0.5974 - accuracy: 0.7873\n",
      "Epoch 67: saving model to model/keypoint_classifier\\keypoint_classifier.keras\n",
      "42/42 [==============================] - 0s 4ms/step - loss: 0.5930 - accuracy: 0.7919 - val_loss: 0.2518 - val_accuracy: 0.9623\n",
      "Epoch 68/1000\n",
      "24/42 [================>.............] - ETA: 0s - loss: 0.5921 - accuracy: 0.8057\n",
      "Epoch 68: saving model to model/keypoint_classifier\\keypoint_classifier.keras\n",
      "42/42 [==============================] - 0s 4ms/step - loss: 0.5855 - accuracy: 0.8026 - val_loss: 0.2632 - val_accuracy: 0.9532\n",
      "Epoch 69/1000\n",
      "27/42 [==================>...........] - ETA: 0s - loss: 0.5746 - accuracy: 0.8084\n",
      "Epoch 69: saving model to model/keypoint_classifier\\keypoint_classifier.keras\n",
      "42/42 [==============================] - 0s 3ms/step - loss: 0.5726 - accuracy: 0.8079 - val_loss: 0.2552 - val_accuracy: 0.9543\n",
      "Epoch 70/1000\n",
      "40/42 [===========================>..] - ETA: 0s - loss: 0.5696 - accuracy: 0.8018\n",
      "Epoch 70: saving model to model/keypoint_classifier\\keypoint_classifier.keras\n",
      "42/42 [==============================] - 0s 4ms/step - loss: 0.5693 - accuracy: 0.8014 - val_loss: 0.2649 - val_accuracy: 0.9480\n",
      "Epoch 71/1000\n",
      "22/42 [==============>...............] - ETA: 0s - loss: 0.5740 - accuracy: 0.7937\n",
      "Epoch 71: saving model to model/keypoint_classifier\\keypoint_classifier.keras\n",
      "42/42 [==============================] - 0s 4ms/step - loss: 0.5553 - accuracy: 0.8077 - val_loss: 0.2511 - val_accuracy: 0.9560\n",
      "Epoch 72/1000\n",
      "42/42 [==============================] - ETA: 0s - loss: 0.5841 - accuracy: 0.7997\n",
      "Epoch 72: saving model to model/keypoint_classifier\\keypoint_classifier.keras\n",
      "42/42 [==============================] - 0s 3ms/step - loss: 0.5841 - accuracy: 0.7997 - val_loss: 0.2416 - val_accuracy: 0.9623\n",
      "Epoch 73/1000\n",
      "42/42 [==============================] - ETA: 0s - loss: 0.5566 - accuracy: 0.8130\n",
      "Epoch 73: saving model to model/keypoint_classifier\\keypoint_classifier.keras\n",
      "42/42 [==============================] - 0s 2ms/step - loss: 0.5566 - accuracy: 0.8130 - val_loss: 0.2501 - val_accuracy: 0.9532\n",
      "Epoch 74/1000\n",
      "38/42 [==========================>...] - ETA: 0s - loss: 0.5617 - accuracy: 0.8045\n",
      "Epoch 74: saving model to model/keypoint_classifier\\keypoint_classifier.keras\n",
      "42/42 [==============================] - 0s 3ms/step - loss: 0.5700 - accuracy: 0.8008 - val_loss: 0.2494 - val_accuracy: 0.9600\n",
      "Epoch 75/1000\n",
      "25/42 [================>.............] - ETA: 0s - loss: 0.5296 - accuracy: 0.8163\n",
      "Epoch 75: saving model to model/keypoint_classifier\\keypoint_classifier.keras\n",
      "42/42 [==============================] - 0s 4ms/step - loss: 0.5526 - accuracy: 0.8064 - val_loss: 0.2538 - val_accuracy: 0.9543\n",
      "Epoch 76/1000\n",
      " 1/42 [..............................] - ETA: 0s - loss: 0.5557 - accuracy: 0.8203\n",
      "Epoch 76: saving model to model/keypoint_classifier\\keypoint_classifier.keras\n",
      "42/42 [==============================] - 0s 2ms/step - loss: 0.5625 - accuracy: 0.8062 - val_loss: 0.2543 - val_accuracy: 0.9560\n",
      "Epoch 77/1000\n",
      "38/42 [==========================>...] - ETA: 0s - loss: 0.5412 - accuracy: 0.8059\n",
      "Epoch 77: saving model to model/keypoint_classifier\\keypoint_classifier.keras\n",
      "42/42 [==============================] - 0s 3ms/step - loss: 0.5417 - accuracy: 0.8065 - val_loss: 0.2543 - val_accuracy: 0.9515\n",
      "Epoch 78/1000\n",
      "38/42 [==========================>...] - ETA: 0s - loss: 0.5527 - accuracy: 0.8041\n",
      "Epoch 78: saving model to model/keypoint_classifier\\keypoint_classifier.keras\n",
      "42/42 [==============================] - 0s 3ms/step - loss: 0.5566 - accuracy: 0.8031 - val_loss: 0.2406 - val_accuracy: 0.9612\n",
      "Epoch 79/1000\n",
      "24/42 [================>.............] - ETA: 0s - loss: 0.5798 - accuracy: 0.7926\n",
      "Epoch 79: saving model to model/keypoint_classifier\\keypoint_classifier.keras\n",
      "42/42 [==============================] - 0s 4ms/step - loss: 0.5692 - accuracy: 0.7984 - val_loss: 0.2470 - val_accuracy: 0.9577\n",
      "Epoch 80/1000\n",
      "22/42 [==============>...............] - ETA: 0s - loss: 0.5466 - accuracy: 0.8072\n",
      "Epoch 80: saving model to model/keypoint_classifier\\keypoint_classifier.keras\n",
      "42/42 [==============================] - 0s 4ms/step - loss: 0.5414 - accuracy: 0.8111 - val_loss: 0.2467 - val_accuracy: 0.9595\n",
      "Epoch 81/1000\n",
      "31/42 [=====================>........] - ETA: 0s - loss: 0.5327 - accuracy: 0.8178\n",
      "Epoch 81: saving model to model/keypoint_classifier\\keypoint_classifier.keras\n",
      "42/42 [==============================] - 0s 3ms/step - loss: 0.5397 - accuracy: 0.8166 - val_loss: 0.2521 - val_accuracy: 0.9543\n",
      "Epoch 82/1000\n",
      "38/42 [==========================>...] - ETA: 0s - loss: 0.5527 - accuracy: 0.8139\n",
      "Epoch 82: saving model to model/keypoint_classifier\\keypoint_classifier.keras\n",
      "42/42 [==============================] - 0s 2ms/step - loss: 0.5513 - accuracy: 0.8147 - val_loss: 0.2402 - val_accuracy: 0.9560\n",
      "Epoch 83/1000\n",
      "41/42 [============================>.] - ETA: 0s - loss: 0.5472 - accuracy: 0.8068\n",
      "Epoch 83: saving model to model/keypoint_classifier\\keypoint_classifier.keras\n",
      "42/42 [==============================] - 0s 3ms/step - loss: 0.5469 - accuracy: 0.8069 - val_loss: 0.2253 - val_accuracy: 0.9703\n",
      "Epoch 84/1000\n",
      " 1/42 [..............................] - ETA: 0s - loss: 0.4859 - accuracy: 0.8516\n",
      "Epoch 84: saving model to model/keypoint_classifier\\keypoint_classifier.keras\n",
      "42/42 [==============================] - 0s 2ms/step - loss: 0.5394 - accuracy: 0.8176 - val_loss: 0.2545 - val_accuracy: 0.9549\n",
      "Epoch 85/1000\n",
      " 1/42 [..............................] - ETA: 0s - loss: 0.5395 - accuracy: 0.8203\n",
      "Epoch 85: saving model to model/keypoint_classifier\\keypoint_classifier.keras\n",
      "42/42 [==============================] - 0s 2ms/step - loss: 0.5419 - accuracy: 0.8130 - val_loss: 0.2511 - val_accuracy: 0.9583\n",
      "Epoch 86/1000\n",
      " 1/42 [..............................] - ETA: 0s - loss: 0.5567 - accuracy: 0.8516\n",
      "Epoch 86: saving model to model/keypoint_classifier\\keypoint_classifier.keras\n",
      "42/42 [==============================] - 0s 2ms/step - loss: 0.5337 - accuracy: 0.8142 - val_loss: 0.2355 - val_accuracy: 0.9617\n",
      "Epoch 87/1000\n",
      " 1/42 [..............................] - ETA: 0s - loss: 0.5382 - accuracy: 0.8516\n",
      "Epoch 87: saving model to model/keypoint_classifier\\keypoint_classifier.keras\n",
      "42/42 [==============================] - 0s 2ms/step - loss: 0.5320 - accuracy: 0.8151 - val_loss: 0.2375 - val_accuracy: 0.9629\n",
      "Epoch 88/1000\n",
      " 1/42 [..............................] - ETA: 0s - loss: 0.6003 - accuracy: 0.7578\n",
      "Epoch 88: saving model to model/keypoint_classifier\\keypoint_classifier.keras\n",
      "42/42 [==============================] - 0s 2ms/step - loss: 0.5351 - accuracy: 0.8125 - val_loss: 0.2380 - val_accuracy: 0.9606\n",
      "Epoch 89/1000\n",
      " 1/42 [..............................] - ETA: 0s - loss: 0.5601 - accuracy: 0.7812\n",
      "Epoch 89: saving model to model/keypoint_classifier\\keypoint_classifier.keras\n",
      "42/42 [==============================] - 0s 2ms/step - loss: 0.5399 - accuracy: 0.8113 - val_loss: 0.2368 - val_accuracy: 0.9589\n",
      "Epoch 90/1000\n",
      "42/42 [==============================] - ETA: 0s - loss: 0.5103 - accuracy: 0.8212\n",
      "Epoch 90: saving model to model/keypoint_classifier\\keypoint_classifier.keras\n",
      "42/42 [==============================] - 0s 2ms/step - loss: 0.5103 - accuracy: 0.8212 - val_loss: 0.2225 - val_accuracy: 0.9652\n",
      "Epoch 91/1000\n",
      " 1/42 [..............................] - ETA: 0s - loss: 0.5454 - accuracy: 0.8359\n",
      "Epoch 91: saving model to model/keypoint_classifier\\keypoint_classifier.keras\n",
      "42/42 [==============================] - 0s 2ms/step - loss: 0.5250 - accuracy: 0.8197 - val_loss: 0.2315 - val_accuracy: 0.9640\n",
      "Epoch 92/1000\n",
      " 1/42 [..............................] - ETA: 0s - loss: 0.4673 - accuracy: 0.8516\n",
      "Epoch 92: saving model to model/keypoint_classifier\\keypoint_classifier.keras\n",
      "42/42 [==============================] - 0s 2ms/step - loss: 0.5185 - accuracy: 0.8187 - val_loss: 0.2315 - val_accuracy: 0.9595\n",
      "Epoch 93/1000\n",
      " 1/42 [..............................] - ETA: 0s - loss: 0.4740 - accuracy: 0.8125\n",
      "Epoch 93: saving model to model/keypoint_classifier\\keypoint_classifier.keras\n",
      "42/42 [==============================] - 0s 2ms/step - loss: 0.5321 - accuracy: 0.8195 - val_loss: 0.2435 - val_accuracy: 0.9589\n",
      "Epoch 94/1000\n",
      " 1/42 [..............................] - ETA: 0s - loss: 0.6096 - accuracy: 0.7891\n",
      "Epoch 94: saving model to model/keypoint_classifier\\keypoint_classifier.keras\n",
      "42/42 [==============================] - 0s 2ms/step - loss: 0.5228 - accuracy: 0.8286 - val_loss: 0.2275 - val_accuracy: 0.9640\n",
      "Epoch 95/1000\n",
      " 1/42 [..............................] - ETA: 0s - loss: 0.6032 - accuracy: 0.7969\n",
      "Epoch 95: saving model to model/keypoint_classifier\\keypoint_classifier.keras\n",
      "42/42 [==============================] - 0s 2ms/step - loss: 0.5249 - accuracy: 0.8168 - val_loss: 0.2450 - val_accuracy: 0.9515\n",
      "Epoch 96/1000\n",
      " 1/42 [..............................] - ETA: 0s - loss: 0.6466 - accuracy: 0.7969\n",
      "Epoch 96: saving model to model/keypoint_classifier\\keypoint_classifier.keras\n",
      "42/42 [==============================] - 0s 2ms/step - loss: 0.5391 - accuracy: 0.8144 - val_loss: 0.2360 - val_accuracy: 0.9577\n",
      "Epoch 97/1000\n",
      " 1/42 [..............................] - ETA: 0s - loss: 0.5628 - accuracy: 0.7969\n",
      "Epoch 97: saving model to model/keypoint_classifier\\keypoint_classifier.keras\n",
      "42/42 [==============================] - 0s 2ms/step - loss: 0.5098 - accuracy: 0.8262 - val_loss: 0.2252 - val_accuracy: 0.9634\n",
      "Epoch 98/1000\n",
      " 1/42 [..............................] - ETA: 0s - loss: 0.5276 - accuracy: 0.7891\n",
      "Epoch 98: saving model to model/keypoint_classifier\\keypoint_classifier.keras\n",
      "42/42 [==============================] - 0s 2ms/step - loss: 0.5158 - accuracy: 0.8159 - val_loss: 0.2346 - val_accuracy: 0.9617\n",
      "Epoch 99/1000\n",
      " 1/42 [..............................] - ETA: 0s - loss: 0.5013 - accuracy: 0.8672\n",
      "Epoch 99: saving model to model/keypoint_classifier\\keypoint_classifier.keras\n",
      "42/42 [==============================] - 0s 3ms/step - loss: 0.5119 - accuracy: 0.8233 - val_loss: 0.2481 - val_accuracy: 0.9526\n",
      "Epoch 100/1000\n",
      "39/42 [==========================>...] - ETA: 0s - loss: 0.5182 - accuracy: 0.8239\n",
      "Epoch 100: saving model to model/keypoint_classifier\\keypoint_classifier.keras\n",
      "42/42 [==============================] - 0s 2ms/step - loss: 0.5195 - accuracy: 0.8243 - val_loss: 0.2196 - val_accuracy: 0.9629\n",
      "Epoch 101/1000\n",
      " 1/42 [..............................] - ETA: 0s - loss: 0.5598 - accuracy: 0.8203\n",
      "Epoch 101: saving model to model/keypoint_classifier\\keypoint_classifier.keras\n",
      "42/42 [==============================] - 0s 2ms/step - loss: 0.5261 - accuracy: 0.8180 - val_loss: 0.2363 - val_accuracy: 0.9595\n",
      "Epoch 102/1000\n",
      " 1/42 [..............................] - ETA: 0s - loss: 0.4012 - accuracy: 0.8672\n",
      "Epoch 102: saving model to model/keypoint_classifier\\keypoint_classifier.keras\n",
      "42/42 [==============================] - 0s 2ms/step - loss: 0.4948 - accuracy: 0.8307 - val_loss: 0.2297 - val_accuracy: 0.9617\n",
      "Epoch 103/1000\n",
      " 1/42 [..............................] - ETA: 0s - loss: 0.4181 - accuracy: 0.8516\n",
      "Epoch 103: saving model to model/keypoint_classifier\\keypoint_classifier.keras\n",
      "42/42 [==============================] - 0s 2ms/step - loss: 0.4922 - accuracy: 0.8296 - val_loss: 0.2233 - val_accuracy: 0.9595\n",
      "Epoch 104/1000\n",
      " 1/42 [..............................] - ETA: 0s - loss: 0.7079 - accuracy: 0.8047\n",
      "Epoch 104: saving model to model/keypoint_classifier\\keypoint_classifier.keras\n",
      "42/42 [==============================] - 0s 2ms/step - loss: 0.5198 - accuracy: 0.8191 - val_loss: 0.2365 - val_accuracy: 0.9526\n",
      "Epoch 105/1000\n",
      " 1/42 [..............................] - ETA: 0s - loss: 0.4041 - accuracy: 0.8438\n",
      "Epoch 105: saving model to model/keypoint_classifier\\keypoint_classifier.keras\n",
      "42/42 [==============================] - 0s 2ms/step - loss: 0.5045 - accuracy: 0.8298 - val_loss: 0.2217 - val_accuracy: 0.9555\n",
      "Epoch 106/1000\n",
      " 1/42 [..............................] - ETA: 0s - loss: 0.3996 - accuracy: 0.9062\n",
      "Epoch 106: saving model to model/keypoint_classifier\\keypoint_classifier.keras\n",
      "42/42 [==============================] - 0s 2ms/step - loss: 0.5102 - accuracy: 0.8252 - val_loss: 0.2259 - val_accuracy: 0.9612\n",
      "Epoch 107/1000\n",
      " 1/42 [..............................] - ETA: 0s - loss: 0.5854 - accuracy: 0.7812\n",
      "Epoch 107: saving model to model/keypoint_classifier\\keypoint_classifier.keras\n",
      "42/42 [==============================] - 0s 2ms/step - loss: 0.5018 - accuracy: 0.8317 - val_loss: 0.2225 - val_accuracy: 0.9612\n",
      "Epoch 108/1000\n",
      " 1/42 [..............................] - ETA: 0s - loss: 0.6369 - accuracy: 0.8047\n",
      "Epoch 108: saving model to model/keypoint_classifier\\keypoint_classifier.keras\n",
      "42/42 [==============================] - 0s 2ms/step - loss: 0.5120 - accuracy: 0.8235 - val_loss: 0.2220 - val_accuracy: 0.9589\n",
      "Epoch 109/1000\n",
      " 1/42 [..............................] - ETA: 0s - loss: 0.4002 - accuracy: 0.8516\n",
      "Epoch 109: saving model to model/keypoint_classifier\\keypoint_classifier.keras\n",
      "42/42 [==============================] - 0s 2ms/step - loss: 0.4997 - accuracy: 0.8273 - val_loss: 0.2235 - val_accuracy: 0.9589\n",
      "Epoch 110/1000\n",
      " 1/42 [..............................] - ETA: 0s - loss: 0.4998 - accuracy: 0.8125\n",
      "Epoch 110: saving model to model/keypoint_classifier\\keypoint_classifier.keras\n",
      "42/42 [==============================] - 0s 2ms/step - loss: 0.5209 - accuracy: 0.8174 - val_loss: 0.2200 - val_accuracy: 0.9646\n",
      "Epoch 111/1000\n",
      "28/42 [===================>..........] - ETA: 0s - loss: 0.5112 - accuracy: 0.8265\n",
      "Epoch 111: saving model to model/keypoint_classifier\\keypoint_classifier.keras\n",
      "42/42 [==============================] - 0s 3ms/step - loss: 0.5186 - accuracy: 0.8233 - val_loss: 0.2345 - val_accuracy: 0.9589\n",
      "Epoch 112/1000\n",
      " 1/42 [..............................] - ETA: 0s - loss: 0.4467 - accuracy: 0.8438\n",
      "Epoch 112: saving model to model/keypoint_classifier\\keypoint_classifier.keras\n",
      "42/42 [==============================] - 0s 2ms/step - loss: 0.5125 - accuracy: 0.8191 - val_loss: 0.2319 - val_accuracy: 0.9583\n",
      "Epoch 113/1000\n",
      "34/42 [=======================>......] - ETA: 0s - loss: 0.4910 - accuracy: 0.8339\n",
      "Epoch 113: saving model to model/keypoint_classifier\\keypoint_classifier.keras\n",
      "42/42 [==============================] - 0s 3ms/step - loss: 0.4912 - accuracy: 0.8368 - val_loss: 0.2170 - val_accuracy: 0.9629\n",
      "Epoch 114/1000\n",
      "34/42 [=======================>......] - ETA: 0s - loss: 0.5021 - accuracy: 0.8355\n",
      "Epoch 114: saving model to model/keypoint_classifier\\keypoint_classifier.keras\n",
      "42/42 [==============================] - 0s 3ms/step - loss: 0.5039 - accuracy: 0.8347 - val_loss: 0.2233 - val_accuracy: 0.9674\n",
      "Epoch 115/1000\n",
      "30/42 [====================>.........] - ETA: 0s - loss: 0.5070 - accuracy: 0.8286\n",
      "Epoch 115: saving model to model/keypoint_classifier\\keypoint_classifier.keras\n",
      "42/42 [==============================] - 0s 3ms/step - loss: 0.4999 - accuracy: 0.8307 - val_loss: 0.2228 - val_accuracy: 0.9634\n",
      "Epoch 116/1000\n",
      "31/42 [=====================>........] - ETA: 0s - loss: 0.5026 - accuracy: 0.8357\n",
      "Epoch 116: saving model to model/keypoint_classifier\\keypoint_classifier.keras\n",
      "42/42 [==============================] - 0s 3ms/step - loss: 0.5077 - accuracy: 0.8311 - val_loss: 0.2200 - val_accuracy: 0.9606\n",
      "Epoch 117/1000\n",
      " 1/42 [..............................] - ETA: 0s - loss: 0.4444 - accuracy: 0.8516\n",
      "Epoch 117: saving model to model/keypoint_classifier\\keypoint_classifier.keras\n",
      "42/42 [==============================] - 0s 2ms/step - loss: 0.5000 - accuracy: 0.8279 - val_loss: 0.2253 - val_accuracy: 0.9595\n",
      "Epoch 118/1000\n",
      " 1/42 [..............................] - ETA: 0s - loss: 0.4381 - accuracy: 0.8281\n",
      "Epoch 118: saving model to model/keypoint_classifier\\keypoint_classifier.keras\n",
      "42/42 [==============================] - 0s 2ms/step - loss: 0.4883 - accuracy: 0.8302 - val_loss: 0.2210 - val_accuracy: 0.9634\n",
      "Epoch 119/1000\n",
      " 1/42 [..............................] - ETA: 0s - loss: 0.4225 - accuracy: 0.8281\n",
      "Epoch 119: saving model to model/keypoint_classifier\\keypoint_classifier.keras\n",
      "42/42 [==============================] - 0s 2ms/step - loss: 0.4851 - accuracy: 0.8309 - val_loss: 0.2147 - val_accuracy: 0.9634\n",
      "Epoch 120/1000\n",
      " 1/42 [..............................] - ETA: 0s - loss: 0.4658 - accuracy: 0.8594\n",
      "Epoch 120: saving model to model/keypoint_classifier\\keypoint_classifier.keras\n",
      "42/42 [==============================] - 0s 2ms/step - loss: 0.4923 - accuracy: 0.8283 - val_loss: 0.2209 - val_accuracy: 0.9583\n",
      "Epoch 121/1000\n",
      " 1/42 [..............................] - ETA: 0s - loss: 0.4123 - accuracy: 0.8672\n",
      "Epoch 121: saving model to model/keypoint_classifier\\keypoint_classifier.keras\n",
      "42/42 [==============================] - 0s 2ms/step - loss: 0.4801 - accuracy: 0.8382 - val_loss: 0.2229 - val_accuracy: 0.9577\n",
      "Epoch 122/1000\n",
      "42/42 [==============================] - ETA: 0s - loss: 0.4924 - accuracy: 0.8340\n",
      "Epoch 122: saving model to model/keypoint_classifier\\keypoint_classifier.keras\n",
      "42/42 [==============================] - 0s 2ms/step - loss: 0.4924 - accuracy: 0.8340 - val_loss: 0.2191 - val_accuracy: 0.9629\n",
      "Epoch 123/1000\n",
      " 1/42 [..............................] - ETA: 0s - loss: 0.3666 - accuracy: 0.8828\n",
      "Epoch 123: saving model to model/keypoint_classifier\\keypoint_classifier.keras\n",
      "42/42 [==============================] - 0s 2ms/step - loss: 0.4667 - accuracy: 0.8361 - val_loss: 0.2147 - val_accuracy: 0.9629\n",
      "Epoch 124/1000\n",
      " 1/42 [..............................] - ETA: 0s - loss: 0.5344 - accuracy: 0.8438\n",
      "Epoch 124: saving model to model/keypoint_classifier\\keypoint_classifier.keras\n",
      "42/42 [==============================] - 0s 2ms/step - loss: 0.4822 - accuracy: 0.8380 - val_loss: 0.2134 - val_accuracy: 0.9669\n",
      "Epoch 125/1000\n",
      "42/42 [==============================] - ETA: 0s - loss: 0.4856 - accuracy: 0.8313\n",
      "Epoch 125: saving model to model/keypoint_classifier\\keypoint_classifier.keras\n",
      "42/42 [==============================] - 0s 2ms/step - loss: 0.4856 - accuracy: 0.8313 - val_loss: 0.2282 - val_accuracy: 0.9589\n",
      "Epoch 126/1000\n",
      " 1/42 [..............................] - ETA: 0s - loss: 0.5817 - accuracy: 0.7656\n",
      "Epoch 126: saving model to model/keypoint_classifier\\keypoint_classifier.keras\n",
      "42/42 [==============================] - 0s 2ms/step - loss: 0.4882 - accuracy: 0.8279 - val_loss: 0.2230 - val_accuracy: 0.9612\n",
      "Epoch 127/1000\n",
      " 1/42 [..............................] - ETA: 0s - loss: 0.5724 - accuracy: 0.8359\n",
      "Epoch 127: saving model to model/keypoint_classifier\\keypoint_classifier.keras\n",
      "42/42 [==============================] - 0s 2ms/step - loss: 0.4651 - accuracy: 0.8422 - val_loss: 0.2056 - val_accuracy: 0.9663\n",
      "Epoch 128/1000\n",
      " 1/42 [..............................] - ETA: 0s - loss: 0.4622 - accuracy: 0.8438\n",
      "Epoch 128: saving model to model/keypoint_classifier\\keypoint_classifier.keras\n",
      "42/42 [==============================] - 0s 2ms/step - loss: 0.4753 - accuracy: 0.8382 - val_loss: 0.2200 - val_accuracy: 0.9617\n",
      "Epoch 129/1000\n",
      " 1/42 [..............................] - ETA: 0s - loss: 0.4028 - accuracy: 0.8438\n",
      "Epoch 129: saving model to model/keypoint_classifier\\keypoint_classifier.keras\n",
      "42/42 [==============================] - 0s 2ms/step - loss: 0.4782 - accuracy: 0.8343 - val_loss: 0.2104 - val_accuracy: 0.9634\n",
      "Epoch 130/1000\n",
      " 1/42 [..............................] - ETA: 0s - loss: 0.5350 - accuracy: 0.8203\n",
      "Epoch 130: saving model to model/keypoint_classifier\\keypoint_classifier.keras\n",
      "42/42 [==============================] - 0s 2ms/step - loss: 0.4661 - accuracy: 0.8412 - val_loss: 0.2206 - val_accuracy: 0.9583\n",
      "Epoch 131/1000\n",
      " 1/42 [..............................] - ETA: 0s - loss: 0.5409 - accuracy: 0.8438\n",
      "Epoch 131: saving model to model/keypoint_classifier\\keypoint_classifier.keras\n",
      "42/42 [==============================] - 0s 2ms/step - loss: 0.4651 - accuracy: 0.8410 - val_loss: 0.2003 - val_accuracy: 0.9692\n",
      "Epoch 132/1000\n",
      " 1/42 [..............................] - ETA: 0s - loss: 0.3796 - accuracy: 0.8516\n",
      "Epoch 132: saving model to model/keypoint_classifier\\keypoint_classifier.keras\n",
      "42/42 [==============================] - 0s 2ms/step - loss: 0.4643 - accuracy: 0.8397 - val_loss: 0.2102 - val_accuracy: 0.9617\n",
      "Epoch 133/1000\n",
      " 1/42 [..............................] - ETA: 0s - loss: 0.5796 - accuracy: 0.7812\n",
      "Epoch 133: saving model to model/keypoint_classifier\\keypoint_classifier.keras\n",
      "42/42 [==============================] - 0s 2ms/step - loss: 0.4868 - accuracy: 0.8275 - val_loss: 0.2171 - val_accuracy: 0.9634\n",
      "Epoch 134/1000\n",
      " 1/42 [..............................] - ETA: 0s - loss: 0.5012 - accuracy: 0.8203\n",
      "Epoch 134: saving model to model/keypoint_classifier\\keypoint_classifier.keras\n",
      "42/42 [==============================] - 0s 2ms/step - loss: 0.4767 - accuracy: 0.8376 - val_loss: 0.2183 - val_accuracy: 0.9646\n",
      "Epoch 135/1000\n",
      " 1/42 [..............................] - ETA: 0s - loss: 0.5690 - accuracy: 0.8125\n",
      "Epoch 135: saving model to model/keypoint_classifier\\keypoint_classifier.keras\n",
      "42/42 [==============================] - 0s 2ms/step - loss: 0.4693 - accuracy: 0.8425 - val_loss: 0.2260 - val_accuracy: 0.9572\n",
      "Epoch 136/1000\n",
      " 1/42 [..............................] - ETA: 0s - loss: 0.5020 - accuracy: 0.8203\n",
      "Epoch 136: saving model to model/keypoint_classifier\\keypoint_classifier.keras\n",
      "42/42 [==============================] - 0s 2ms/step - loss: 0.4713 - accuracy: 0.8393 - val_loss: 0.2155 - val_accuracy: 0.9583\n",
      "Epoch 137/1000\n",
      " 1/42 [..............................] - ETA: 0s - loss: 0.4304 - accuracy: 0.8438\n",
      "Epoch 137: saving model to model/keypoint_classifier\\keypoint_classifier.keras\n",
      "42/42 [==============================] - 0s 2ms/step - loss: 0.4655 - accuracy: 0.8370 - val_loss: 0.2149 - val_accuracy: 0.9629\n",
      "Epoch 138/1000\n",
      " 1/42 [..............................] - ETA: 0s - loss: 0.4790 - accuracy: 0.8516\n",
      "Epoch 138: saving model to model/keypoint_classifier\\keypoint_classifier.keras\n",
      "42/42 [==============================] - 0s 2ms/step - loss: 0.4659 - accuracy: 0.8410 - val_loss: 0.2222 - val_accuracy: 0.9577\n",
      "Epoch 139/1000\n",
      " 1/42 [..............................] - ETA: 0s - loss: 0.5518 - accuracy: 0.7969\n",
      "Epoch 139: saving model to model/keypoint_classifier\\keypoint_classifier.keras\n",
      "42/42 [==============================] - 0s 2ms/step - loss: 0.4693 - accuracy: 0.8403 - val_loss: 0.2282 - val_accuracy: 0.9589\n",
      "Epoch 140/1000\n",
      " 1/42 [..............................] - ETA: 0s - loss: 0.5121 - accuracy: 0.8281\n",
      "Epoch 140: saving model to model/keypoint_classifier\\keypoint_classifier.keras\n",
      "42/42 [==============================] - 0s 2ms/step - loss: 0.4822 - accuracy: 0.8345 - val_loss: 0.2252 - val_accuracy: 0.9646\n",
      "Epoch 141/1000\n",
      " 1/42 [..............................] - ETA: 0s - loss: 0.5443 - accuracy: 0.8438\n",
      "Epoch 141: saving model to model/keypoint_classifier\\keypoint_classifier.keras\n",
      "42/42 [==============================] - 0s 2ms/step - loss: 0.4592 - accuracy: 0.8397 - val_loss: 0.2160 - val_accuracy: 0.9606\n",
      "Epoch 142/1000\n",
      " 1/42 [..............................] - ETA: 0s - loss: 0.4151 - accuracy: 0.8750\n",
      "Epoch 142: saving model to model/keypoint_classifier\\keypoint_classifier.keras\n",
      "42/42 [==============================] - 0s 2ms/step - loss: 0.4560 - accuracy: 0.8403 - val_loss: 0.2159 - val_accuracy: 0.9652\n",
      "Epoch 143/1000\n",
      "34/42 [=======================>......] - ETA: 0s - loss: 0.4546 - accuracy: 0.8490\n",
      "Epoch 143: saving model to model/keypoint_classifier\\keypoint_classifier.keras\n",
      "42/42 [==============================] - 0s 3ms/step - loss: 0.4546 - accuracy: 0.8486 - val_loss: 0.2215 - val_accuracy: 0.9595\n",
      "Epoch 144/1000\n",
      "28/42 [===================>..........] - ETA: 0s - loss: 0.4465 - accuracy: 0.8518\n",
      "Epoch 144: saving model to model/keypoint_classifier\\keypoint_classifier.keras\n",
      "42/42 [==============================] - 0s 4ms/step - loss: 0.4538 - accuracy: 0.8471 - val_loss: 0.2043 - val_accuracy: 0.9646\n",
      "Epoch 145/1000\n",
      "36/42 [========================>.....] - ETA: 0s - loss: 0.4469 - accuracy: 0.8466\n",
      "Epoch 145: saving model to model/keypoint_classifier\\keypoint_classifier.keras\n",
      "42/42 [==============================] - 0s 6ms/step - loss: 0.4571 - accuracy: 0.8448 - val_loss: 0.2026 - val_accuracy: 0.9692\n",
      "Epoch 146/1000\n",
      " 1/42 [..............................] - ETA: 0s - loss: 0.3547 - accuracy: 0.8594\n",
      "Epoch 146: saving model to model/keypoint_classifier\\keypoint_classifier.keras\n",
      "42/42 [==============================] - 0s 2ms/step - loss: 0.4554 - accuracy: 0.8397 - val_loss: 0.2163 - val_accuracy: 0.9663\n",
      "Epoch 147/1000\n",
      " 1/42 [..............................] - ETA: 0s - loss: 0.5059 - accuracy: 0.7969\n",
      "Epoch 147: saving model to model/keypoint_classifier\\keypoint_classifier.keras\n",
      "42/42 [==============================] - 0s 2ms/step - loss: 0.4644 - accuracy: 0.8393 - val_loss: 0.2216 - val_accuracy: 0.9595\n",
      "Epoch 148/1000\n",
      " 1/42 [..............................] - ETA: 0s - loss: 0.3698 - accuracy: 0.8672\n",
      "Epoch 148: saving model to model/keypoint_classifier\\keypoint_classifier.keras\n",
      "42/42 [==============================] - 0s 2ms/step - loss: 0.4492 - accuracy: 0.8454 - val_loss: 0.2180 - val_accuracy: 0.9646\n",
      "Epoch 149/1000\n",
      " 1/42 [..............................] - ETA: 0s - loss: 0.4381 - accuracy: 0.8594\n",
      "Epoch 149: saving model to model/keypoint_classifier\\keypoint_classifier.keras\n",
      "42/42 [==============================] - 0s 2ms/step - loss: 0.4582 - accuracy: 0.8475 - val_loss: 0.2188 - val_accuracy: 0.9595\n",
      "Epoch 150/1000\n",
      " 1/42 [..............................] - ETA: 0s - loss: 0.5764 - accuracy: 0.8516\n",
      "Epoch 150: saving model to model/keypoint_classifier\\keypoint_classifier.keras\n",
      "42/42 [==============================] - 0s 2ms/step - loss: 0.4576 - accuracy: 0.8399 - val_loss: 0.2103 - val_accuracy: 0.9657\n",
      "Epoch 151/1000\n",
      " 1/42 [..............................] - ETA: 0s - loss: 0.4326 - accuracy: 0.8438\n",
      "Epoch 151: saving model to model/keypoint_classifier\\keypoint_classifier.keras\n",
      "42/42 [==============================] - 0s 2ms/step - loss: 0.4539 - accuracy: 0.8439 - val_loss: 0.2138 - val_accuracy: 0.9669\n",
      "Epoch 151: early stopping\n"
     ]
    }
   ],
   "source": [
    "import pandas as pd\n",
    "import seaborn as sns\n",
    "import matplotlib.pyplot as plt\n",
    "history=model.fit(\n",
    "    X_train,\n",
    "    y_train,\n",
    "    epochs=1000,\n",
    "    batch_size=128,\n",
    "    validation_data=(X_test, y_test),\n",
    "    callbacks=[cp_callback, es_callback]\n",
    ")"
   ]
  },
  {
   "cell_type": "code",
   "execution_count": 12,
   "metadata": {
    "colab": {
     "base_uri": "https://localhost:8080/"
    },
    "id": "pxvb2Y299hE3",
    "outputId": "59eb3185-2e37-4b9e-bc9d-ab1b8ac29b7f"
   },
   "outputs": [
    {
     "name": "stdout",
     "output_type": "stream",
     "text": [
      "14/14 [==============================] - 0s 1ms/step - loss: 0.2138 - accuracy: 0.9669\n"
     ]
    }
   ],
   "source": [
    "# Model evaluation\n",
    "val_loss, val_acc = model.evaluate(X_test, y_test, batch_size=128)"
   ]
  },
  {
   "cell_type": "code",
   "execution_count": 13,
   "metadata": {
    "id": "RBkmDeUW9hE4"
   },
   "outputs": [],
   "source": [
    "# Loading the saved model\n",
    "model = tf.keras.models.load_model(model_save_path)"
   ]
  },
  {
   "cell_type": "code",
   "execution_count": 14,
   "metadata": {
    "colab": {
     "base_uri": "https://localhost:8080/"
    },
    "id": "tFz9Tb0I9hE4",
    "outputId": "1c3b3528-54ae-4ee2-ab04-77429211cbef"
   },
   "outputs": [
    {
     "name": "stdout",
     "output_type": "stream",
     "text": [
      "1/1 [==============================] - 0s 79ms/step\n",
      "[1.3148154e-01 2.1557726e-02 5.0483245e-06 8.4452760e-01 2.2060883e-03\n",
      " 2.2203404e-04]\n",
      "3\n"
     ]
    }
   ],
   "source": [
    "# Inference test\n",
    "predict_result = model.predict(np.array([X_test[0]]))\n",
    "print(np.squeeze(predict_result))\n",
    "print(np.argmax(np.squeeze(predict_result)))"
   ]
  },
  {
   "cell_type": "markdown",
   "metadata": {
    "id": "S3U4yNWx9hE4"
   },
   "source": [
    "# Confusion matrix"
   ]
  },
  {
   "cell_type": "code",
   "execution_count": 15,
   "metadata": {
    "colab": {
     "base_uri": "https://localhost:8080/",
     "height": 582
    },
    "id": "AP1V6SCk9hE5",
    "outputId": "08e41a80-7a4a-4619-8125-ecc371368d19"
   },
   "outputs": [
    {
     "name": "stdout",
     "output_type": "stream",
     "text": [
      "55/55 [==============================] - 0s 759us/step\n"
     ]
    },
    {
     "data": {
      "image/png": "[encoded data removed]",
      "text/plain": [
       "<Figure size 700x600 with 2 Axes>"
      ]
     },
     "metadata": {},
     "output_type": "display_data"
    },
    {
     "name": "stdout",
     "output_type": "stream",
     "text": [
      "Classification Report\n",
      "              precision    recall  f1-score   support\n",
      "\n",
      "           0       0.99      0.98      0.98       408\n",
      "           1       0.98      0.97      0.97       390\n",
      "           2       0.94      0.98      0.96       333\n",
      "           3       0.96      0.96      0.96       179\n",
      "           4       0.91      0.95      0.93       176\n",
      "           5       1.00      0.96      0.98       265\n",
      "\n",
      "    accuracy                           0.97      1751\n",
      "   macro avg       0.96      0.96      0.96      1751\n",
      "weighted avg       0.97      0.97      0.97      1751\n",
      "\n"
     ]
    }
   ],
   "source": [
    "import pandas as pd\n",
    "import seaborn as sns\n",
    "import matplotlib.pyplot as plt\n",
    "from sklearn.metrics import confusion_matrix, classification_report\n",
    "\n",
    "def print_confusion_matrix(y_true, y_pred, report=True):\n",
    "    labels = sorted(list(set(y_true)))\n",
    "    cmx_data = confusion_matrix(y_true, y_pred, labels=labels)\n",
    "    \n",
    "    df_cmx = pd.DataFrame(cmx_data, index=labels, columns=labels)\n",
    " \n",
    "    fig, ax = plt.subplots(figsize=(7, 6))\n",
    "    sns.heatmap(df_cmx, annot=True, fmt='g' ,square=False)\n",
    "    ax.set_ylim(len(set(y_true)), 0)\n",
    "    plt.show()\n",
    "    \n",
    "    if report:\n",
    "        print('Classification Report')\n",
    "        print(classification_report(y_test, y_pred))\n",
    "\n",
    "Y_pred = model.predict(X_test)\n",
    "y_pred = np.argmax(Y_pred, axis=1)\n",
    "\n",
    "print_confusion_matrix(y_test, y_pred)"
   ]
  },
  {
   "cell_type": "code",
   "execution_count": 16,
   "metadata": {
    "colab": {
     "base_uri": "https://localhost:8080/",
     "height": 582
    },
    "id": "AP1V6SCk9hE5",
    "outputId": "08e41a80-7a4a-4619-8125-ecc371368d19"
   },
   "outputs": [
    {
     "data": {
      "image/png": "[encoded data removed]",
      "text/plain": [
       "<Figure size 800x800 with 1 Axes>"
      ]
     },
     "metadata": {},
     "output_type": "display_data"
    }
   ],
   "source": [
    "class_counts = pd.Series(y_test).value_counts()\n",
    "\n",
    "plt.figure(figsize=(8, 8))\n",
    "plt.pie(class_counts, labels=class_counts.index, autopct='%1.1f%%', startangle=140)\n",
    "plt.axis('equal')  # Equal aspect ratio ensures that pie is drawn as a circle.\n",
    "plt.title('Class Distribution')\n",
    "\n",
    "\n",
    "plt.savefig('ClassDistribution.png')\n",
    "\n",
    "plt.show()"
   ]
  },
  {
   "cell_type": "code",
   "execution_count": 17,
   "metadata": {
    "colab": {
     "base_uri": "https://localhost:8080/",
     "height": 582
    },
    "id": "AP1V6SCk9hE5",
    "outputId": "08e41a80-7a4a-4619-8125-ecc371368d19"
   },
   "outputs": [
    {
     "data": {
      "image/png": "[encoded data removed]",
      "text/plain": [
       "<Figure size 800x600 with 1 Axes>"
      ]
     },
     "metadata": {},
     "output_type": "display_data"
    }
   ],
   "source": [
    "plt.figure(figsize=(8, 6))\n",
    "plt.plot(history.history['accuracy'], label='Training Accuracy')\n",
    "plt.plot(history.history['val_accuracy'], label='Validation Accuracy')\n",
    "plt.xlabel('Epoch')\n",
    "plt.ylabel('Accuracy')\n",
    "plt.title('Training and Validation Accuracy Over Epochs')\n",
    "plt.legend()\n",
    "\n",
    "\n",
    "plt.savefig('TrainingAccuracy.png')\n",
    "\n",
    "plt.show()"
   ]
  },
  {
   "cell_type": "markdown",
   "metadata": {
    "id": "FNP6aqzc9hE5"
   },
   "source": [
    "# Convert to model for Tensorflow-Lite"
   ]
  },
  {
   "cell_type": "code",
   "execution_count": 18,
   "metadata": {
    "id": "ODjnYyld9hE6"
   },
   "outputs": [],
   "source": [
    "# Save as a model dedicated to inference\n",
    "model.save(model_save_path)"
   ]
  },
  {
   "cell_type": "code",
   "execution_count": 19,
   "metadata": {
    "colab": {
     "base_uri": "https://localhost:8080/"
    },
    "id": "zRfuK8Y59hE6",
    "outputId": "a4ca585c-b5d5-4244-8291-8674063209bb"
   },
   "outputs": [
    {
     "name": "stdout",
     "output_type": "stream",
     "text": [
      "INFO:tensorflow:Assets written to: C:\\Users\\samra\\AppData\\Local\\Temp\\tmpi_opfqp0\\assets\n"
     ]
    },
    {
     "name": "stderr",
     "output_type": "stream",
     "text": [
      "INFO:tensorflow:Assets written to: C:\\Users\\samra\\AppData\\Local\\Temp\\tmpi_opfqp0\\assets\n"
     ]
    },
    {
     "data": {
      "text/plain": [
       "7816"
      ]
     },
     "execution_count": 19,
     "metadata": {},
     "output_type": "execute_result"
    }
   ],
   "source": [
    "# Transform model (quantization)\n",
    "\n",
    "converter = tf.lite.TFLiteConverter.from_keras_model(model)\n",
    "converter.optimizations = [tf.lite.Optimize.DEFAULT]\n",
    "tflite_quantized_model = converter.convert()\n",
    "\n",
    "open(tflite_save_path, 'wb').write(tflite_quantized_model)"
   ]
  },
  {
   "cell_type": "markdown",
   "metadata": {
    "id": "CHBPBXdx9hE6"
   },
   "source": [
    "# Inference test"
   ]
  },
  {
   "cell_type": "code",
   "execution_count": 20,
   "metadata": {
    "id": "mGAzLocO9hE7"
   },
   "outputs": [],
   "source": [
    "interpreter = tf.lite.Interpreter(model_path=tflite_save_path)\n",
    "interpreter.allocate_tensors()"
   ]
  },
  {
   "cell_type": "code",
   "execution_count": 21,
   "metadata": {
    "id": "oQuDK8YS9hE7"
   },
   "outputs": [],
   "source": [
    "# Get I / O tensor\n",
    "input_details = interpreter.get_input_details()\n",
    "output_details = interpreter.get_output_details()"
   ]
  },
  {
   "cell_type": "code",
   "execution_count": 22,
   "metadata": {
    "id": "2_ixAf_l9hE7"
   },
   "outputs": [],
   "source": [
    "interpreter.set_tensor(input_details[0]['index'], np.array([X_test[0]]))"
   ]
  },
  {
   "cell_type": "code",
   "execution_count": 23,
   "metadata": {
    "colab": {
     "base_uri": "https://localhost:8080/"
    },
    "id": "s4FoAnuc9hE7",
    "outputId": "91f18257-8d8b-4ef3-c558-e9b5f94fabbf",
    "scrolled": true
   },
   "outputs": [
    {
     "name": "stdout",
     "output_type": "stream",
     "text": [
      "CPU times: total: 0 ns\n",
      "Wall time: 0 ns\n"
     ]
    }
   ],
   "source": [
    "%%time\n",
    "# Inference implementation\n",
    "interpreter.invoke()\n",
    "tflite_results = interpreter.get_tensor(output_details[0]['index'])"
   ]
  },
  {
   "cell_type": "code",
   "execution_count": 24,
   "metadata": {
    "colab": {
     "base_uri": "https://localhost:8080/"
    },
    "id": "vONjp19J9hE8",
    "outputId": "77205e24-fd00-42c4-f7b6-e06e527c2cba"
   },
   "outputs": [
    {
     "name": "stdout",
     "output_type": "stream",
     "text": [
      "[1.3316748e-01 2.2073006e-02 5.4059542e-06 8.4218186e-01 2.3478232e-03\n",
      " 2.2443983e-04]\n",
      "3\n"
     ]
    }
   ],
   "source": [
    "print(np.squeeze(tflite_results))\n",
    "print(np.argmax(np.squeeze(tflite_results)))"
   ]
  }
 ],
 "metadata": {
  "accelerator": "GPU",
  "colab": {
   "collapsed_sections": [],
   "name": "keypoint_classification_EN.ipynb",
   "provenance": [],
   "toc_visible": true
  },
  "kernelspec": {
   "display_name": "Python 3 (ipykernel)",
   "language": "python",
   "name": "python3"
  },
  "language_info": {
   "codemirror_mode": {
    "name": "ipython",
    "version": 3
   },
   "file_extension": ".py",
   "mimetype": "text/x-python",
   "name": "python",
   "nbconvert_exporter": "python",
   "pygments_lexer": "ipython3",
   "version": "3.11.4"
  }
 },
 "nbformat": 4,
 "nbformat_minor": 4
}
